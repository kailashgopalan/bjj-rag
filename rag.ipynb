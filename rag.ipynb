{
 "cells": [
  {
   "cell_type": "code",
   "execution_count": 1,
   "metadata": {},
   "outputs": [],
   "source": [
    "#|default_exp app"
   ]
  },
  {
   "cell_type": "markdown",
   "metadata": {},
   "source": [
    "Let's start by loading the environment variables we need to use."
   ]
  },
  {
   "cell_type": "code",
   "execution_count": 9,
   "metadata": {},
   "outputs": [],
   "source": [
    "#|export\n",
    "import os\n",
    "from dotenv import load_dotenv\n",
    "\n",
    "load_dotenv()\n",
    "\n",
    "OPENAI_API_KEY = os.getenv(\"OPENAI_API_KEY\")\n",
    "\n",
    "# This is the YouTube video we're going to use. State of competitive intelligence 2023\n",
    "YOUTUBE_VIDEO = \"https://www.youtube.com/watch?v=GTZAoRiZnpQ&t=96s\""
   ]
  },
  {
   "cell_type": "markdown",
   "metadata": {},
   "source": [
    "## Setting up the model\n",
    "Let's define the LLM model that we'll use as part of the workflow."
   ]
  },
  {
   "cell_type": "code",
   "execution_count": 10,
   "metadata": {},
   "outputs": [],
   "source": [
    "from langchain_openai.chat_models import ChatOpenAI\n",
    "\n",
    "model = ChatOpenAI(openai_api_key=OPENAI_API_KEY, model=\"gpt-3.5-turbo\")"
   ]
  },
  {
   "cell_type": "markdown",
   "metadata": {},
   "source": [
    "We can test the model by asking a simple question."
   ]
  },
  {
   "cell_type": "code",
   "execution_count": 11,
   "metadata": {},
   "outputs": [
    {
     "data": {
      "text/plain": [
       "AIMessage(content='The Los Angeles Dodgers won the World Series during the COVID-19 pandemic, defeating the Tampa Bay Rays in the 2020 World Series.')"
      ]
     },
     "execution_count": 11,
     "metadata": {},
     "output_type": "execute_result"
    }
   ],
   "source": [
    "model.invoke(\"What MLB team won the World Series during the COVID-19 pandemic?\")"
   ]
  },
  {
   "cell_type": "markdown",
   "metadata": {},
   "source": [
    "## String Parsing"
   ]
  },
  {
   "cell_type": "code",
   "execution_count": 12,
   "metadata": {},
   "outputs": [
    {
     "data": {
      "text/plain": [
       "'The capital of India is New Delhi.'"
      ]
     },
     "execution_count": 12,
     "metadata": {},
     "output_type": "execute_result"
    }
   ],
   "source": [
    "from langchain_core.output_parsers import StrOutputParser\n",
    "\n",
    "parser = StrOutputParser()\n",
    "\n",
    "chain = model | parser\n",
    "chain.invoke(\"What is the capital of India?\")"
   ]
  },
  {
   "cell_type": "markdown",
   "metadata": {},
   "source": [
    "## Introducing prompt templates\n",
    "\n",
    "We want to provide the model with some context and the question. [Prompt templates](https://python.langchain.com/docs/modules/model_io/prompts/quick_start) are a simple way to define and reuse prompts."
   ]
  },
  {
   "cell_type": "code",
   "execution_count": 13,
   "metadata": {},
   "outputs": [
    {
     "data": {
      "text/plain": [
       "'Human: \\nAnswer the question based on the context below. If you can\\'t \\nanswer the question, reply \"I don\\'t know\".\\n\\nContext: Klue refers to a competitive intelligence software\\n\\nQuestion: What is Klue?\\n'"
      ]
     },
     "execution_count": 13,
     "metadata": {},
     "output_type": "execute_result"
    }
   ],
   "source": [
    "from langchain.prompts import ChatPromptTemplate\n",
    "\n",
    "template = \"\"\"\n",
    "Answer the question based on the context below. If you can't \n",
    "answer the question, reply \"I don't know\".\n",
    "\n",
    "Context: {context}\n",
    "\n",
    "Question: {question}\n",
    "\"\"\"\n",
    "\n",
    "prompt = ChatPromptTemplate.from_template(template)\n",
    "prompt.format(context=\"Klue refers to a competitive intelligence software\", question=\"What is Klue?\")"
   ]
  },
  {
   "cell_type": "markdown",
   "metadata": {},
   "source": [
    "## create chain"
   ]
  },
  {
   "cell_type": "code",
   "execution_count": 14,
   "metadata": {},
   "outputs": [
    {
     "data": {
      "text/plain": [
       "'Klue is a competitive intelligence software.'"
      ]
     },
     "execution_count": 14,
     "metadata": {},
     "output_type": "execute_result"
    }
   ],
   "source": [
    "chain = prompt | model | parser\n",
    "chain.invoke({\n",
    "    \"context\": \"Klue refers to a competitive intelligence software, crayon is their biggest competitor\",\n",
    "    \"question\": \"What is Klue?\"\n",
    "})"
   ]
  },
  {
   "cell_type": "markdown",
   "metadata": {},
   "source": [
    "## Transcribing the YouTube Video\n",
    "\n",
    "The context we want to send the model comes from a YouTube video. Let's download the video and transcribe it using [OpenAI's Whisper](https://openai.com/research/whisper)."
   ]
  },
  {
   "cell_type": "code",
   "execution_count": 10,
   "metadata": {},
   "outputs": [
    {
     "data": {
      "text/plain": [
       "'https://www.youtube.com/watch?v=GTZAoRiZnpQ&t=96s'"
      ]
     },
     "execution_count": 10,
     "metadata": {},
     "output_type": "execute_result"
    }
   ],
   "source": [
    "YOUTUBE_VIDEO"
   ]
  },
  {
   "cell_type": "markdown",
   "metadata": {},
   "source": [
    "Need to run this for ffmpeg -> conda install -c conda-forge ffmpeg"
   ]
  },
  {
   "cell_type": "markdown",
   "metadata": {},
   "source": [
    "### transcription is needed only once"
   ]
  },
  {
   "cell_type": "code",
   "execution_count": 12,
   "metadata": {},
   "outputs": [],
   "source": [
    "import tempfile\n",
    "import whisper\n",
    "from pytube import YouTube\n",
    "\n",
    "\n",
    "# Let's do this only if we haven't created the transcription file yet.\n",
    "if not os.path.exists(\"transcription.txt\"):\n",
    "    youtube = YouTube(YOUTUBE_VIDEO)\n",
    "    audio = youtube.streams.filter(only_audio=True).first()\n",
    "\n",
    "    # Let's load the base model. This is not the most accurate\n",
    "    # model but it's fast.\n",
    "    whisper_model = whisper.load_model(\"base\")\n",
    "\n",
    "    with tempfile.TemporaryDirectory() as tmpdir:\n",
    "        file = audio.download(output_path=tmpdir)\n",
    "        transcription = whisper_model.transcribe(file, fp16=False)[\"text\"].strip()\n",
    "\n",
    "        with open(\"transcription.txt\", \"w\") as file:\n",
    "            file.write(transcription)"
   ]
  },
  {
   "cell_type": "markdown",
   "metadata": {},
   "source": [
    "Let's read the transcription and display the first few characters to ensure everything works as expected."
   ]
  },
  {
   "cell_type": "code",
   "execution_count": 13,
   "metadata": {},
   "outputs": [
    {
     "data": {
      "text/plain": [
       "'Welcome everyone. Thank you for for joining us today for the State of competitive intelligence in 20'"
      ]
     },
     "execution_count": 13,
     "metadata": {},
     "output_type": "execute_result"
    }
   ],
   "source": [
    "with open(\"transcription.txt\") as file:\n",
    "    transcription = file.read()\n",
    "\n",
    "transcription[:100]"
   ]
  },
  {
   "cell_type": "code",
   "execution_count": 14,
   "metadata": {},
   "outputs": [
    {
     "data": {
      "text/plain": [
       "59810"
      ]
     },
     "execution_count": 14,
     "metadata": {},
     "output_type": "execute_result"
    }
   ],
   "source": [
    "len(transcription)"
   ]
  },
  {
   "cell_type": "markdown",
   "metadata": {},
   "source": [
    "## Using the entire transcription as context\n",
    "\n",
    "If we try to invoke the chain using the transcription as context, the model will return an error because the context is too long.\n",
    "\n",
    "Large Language Models support limitted context sizes. The video we are using is too long for the model to handle, so we need to find a different solution."
   ]
  },
  {
   "cell_type": "code",
   "execution_count": 16,
   "metadata": {},
   "outputs": [],
   "source": [
    "try:\n",
    "    chain.invoke({\n",
    "        \"context\": transcription,\n",
    "        \"question\": \"What is the best tip for a company trying to enable their sales orgs around compete?\"\n",
    "    })\n",
    "except Exception as e:\n",
    "    print(e)"
   ]
  },
  {
   "cell_type": "markdown",
   "metadata": {},
   "source": [
    "## Splitting the transcription"
   ]
  },
  {
   "cell_type": "code",
   "execution_count": 15,
   "metadata": {
    "scrolled": true
   },
   "outputs": [
    {
     "data": {
      "text/plain": [
       "[Document(page_content=\"Welcome everyone. Thank you for for joining us today for the State of competitive intelligence in 2023. My name is Connor. I'm on the content team here at crayon and I am joined today. I'm very happy today to be joined by Mimi in August who run competitive intelligence at Akamai and Deltech respectively. I am also joined today by Sheila Leihar who is our senior director of content here at crayon. She will be monitoring the the Q&A section. So periodically throughout today's session, I will I'll throw it over to Sheila and she will show chime in with some questions that we're getting from all of you. So please throughout this session, any questions that come around please put them in that Q&A section and you know if it aligns with what we're talking about, we will we'll discuss it in real time and then we also have some time set aside the end for questions that we aren't able to get to. We also have a poll question that we will push lives in just a minute. But first before I get to it today's agenda, Mimi and August, thank you so much for being here. Thank you for having us. Thanks Connor. So like I said, super simple agenda for our time together today. In not even two minutes, I will just quickly give some background on the state of competitive intelligence in case anyone is not familiar with what it is. And then for the majority of our time together today, we will be walking through the top five insights from the latest edition of the state of CI at the 2023 edition. And for each of those insights, we have a discussion question and those discussion questions will drive most of our conversation. Plus, again, the the extra questions that you all put in that Q&A section. And then like I said, time permitting, you know, if there are there will definitely be questions that we don't get to and that's how we will wrap up our time together today. This one's a lot of background. Crown state of competitive intelligence was launched originally in in 2018. So if you're familiar with, you know, HubSpot state of marketing or or Salesforce and state of sales that crown has the state of competitive intelligence, of course. So we published a new edition every year since 2018. The latest edition of the 2023 edition is number six. And it's based on a survey of more than more than 900 competitive intelligence leaders like me and August, as well as stakeholders, folks like sales reps and CSMs and other folks who use competitive intelligence throughout their day to day. And since the very beginning, the goal of state of CI has has never changed. The goal is to be the source of truth for anyone out there who wants to know why and how companies invest in competitive intelligence programs. So that's the state of CI. At the end, we will we'll give a shout out to the report itself. So you all know where to to get it. So you can go download if you haven't already. And yeah, like I said, the most of our time today will be spent walking through the top five insights. But first, we do have a poll. Caitlin is going to set that live. So what is the biggest roadblock keeping you from driving adoption of competitive intelligence or or usage? And you can see you have three options there and another. So if you can all just take a few seconds to answer that poll question. Cool. So it looks like with almost half of the poll respondents, the biggest roadblock is stakeholders don't fully understand the value of CI. And then it's close between my stakeholders have trouble finding CI and other and then only a few folks said that their that their stakeholders are unaware that CI is available to them. So before we get into our top five insights, obviously, Mimi, I'm just curious if you're all at all surprised by the results of that poll. No, I'm not actually and I was glad to see it because the awareness piece is for when you're starting out and it sounds like at least for the majority of folks who are on this call, they made it really clear to the folks that they work with, right, that they're available and people can find them. I think it's the value piece is longer term and a little bit more difficult. So definitely not surprised by it. Something that constantly needs to be refreshed as well with new stakeholders, new understandings of what competitive intelligence is able to do into scenarios that they're facing. And sometimes a stakeholder may not even realize there's value that competitive intelligence can deliver in a particular situation. And so sometimes they don't ask. Gotcha. Well, thank you both for the, I know that that wasn't prepared. So thank you for the quick reactions to that. So like I said, most of our time today will be spent discussing the top five insights from the state of C.I. So the question we ask here, all the C.I leaders who took the state of C.I. survey, we asked them, you know, what, what percentage of their opportunities are competitive. And as you can see, for the average B2B software company based on those responses, two thirds, 66% of deals are competitive. So our discussion questions for this first insight for Mimi and August is, how do you get sales reps to adopt the competitive insights that you share with Mimi? Would you mind sort of kicking us off on this topic? Yeah, absolutely. And I think, you know, August and I had a very similar reaction, which is road showing C.I. and the things that are available to not just the sales team, but all of other teams who work with it's not a one and done, right? It's a constant evolution, constant dialogue, reminding people to either adopt new behaviors or reinforce behaviors. That's something that is a constant for C.I. leaders and C.I. teams. So if you want adoption, you want you, you have to have that story and you have to tell it over and over again. Yeah, absolutely agree. We found definitively that repetition is your friend, that whether it's awareness of a particular resource that they can apply or specific insights, for example, let's say how to handle traps that a leading competitor may set for you that getting out in front of a sales force again and again continually reinforces that knowledge and that awareness of those resources and between turnover in a sales force and let's say maybe some people learn things different ways and just the the fallibility of human memory and just to reinforce, reinforce, and repetition are your friends. So if I heard you cracky that August, so you're saying that you will not only reinforce, hey, we have this this battle card on this competitor, it sounds like you'll even go a level deeper and sometimes just focus on specific content within that single back data here, that right? Yes, absolutely. We will hold host sessions and engage individual accounting sometimes on specific sections of our battle card, for example, because we're seeing that they have they have a need or requirement of particular stage in the sales cycle or with a particular competitor that you know maybe is trap, you know, setting a trap that should not be as effective as it's proving to be and so we spend some time on those specific yeah, reinforcing those specific activities. Is that something that you will do as well? Mimi sometimes is go one level deeper beyond just here's how to you know, sell against this competitor and even go here's how to sell against this competitor in this scenario or when they set this trap, is that something you've done as well? Yeah, absolutely. In every context, every deal is different and so we try to tailor it when we have the time and we even when we're sharing battle card content, right? When the requests is specific enough, sometimes it's very, very general so we send the whole thing. If someone is looking for objection handling, right? We go to that tile and we link to that specific piece because that's the specific thing that they're looking for. I think a little bit of that white blob service, right? To to a rep and just kind of handing them exactly what they're looking for, it helps, right? Bring that good will that you need, right? In terms of what CI can offer and the usability of the product, that's important. Yeah, just so for the folks out there who who more for everyone, but specifically those folks those the half or so who said that they're their biggest row block is is getting their stakeholders to understand the value of CI. It sounds like if there's one thing they can do coming out of today, it's make themselves more visible and overcommunicate. It sounds like is there anything else again for someone who assume that at this point they haven't really done anything to drive from the value of CI? Is there anything beyond showing up and overcommunicate that you would you would recommend to those folks to make it more specific why we focus on sellers in particular? Do you have any thoughts there August? I like the overcommunication framing because for you it will feel like you are overcommunicating oh my gosh, I can't believe I'm saying the same thing to them the third time this month, that sort of thing. But you're you're also over indexing on how much people have listened to you the first two times seeing you represented something. And I like me these point two about the specificity, you know, that every opportunity is different and being able to make for example a battle card or some other competitive asset real in exactly the situation that that an account team or a team of sellers might be facing, you know, demonstrate for them the value of what competitive intelligence is and kind of gives help some connect the dots between let's say a general competitive intelligence asset and their specific situation as well. I think you add there Mimi in addition to you know overcommunicating any other tips for folks who need help you know showing the value of CI to their stakeholders. I think you might want to kind of create that virtuous cycle which is if you've had enough time momentum and usage of certain reps maybe not the entire chart field reach out to those reps and kind of do a little bit of a review or get feedback right. Here's a battle card these are the components is it actually helpful is it useful? What is it that you know you and your team need that we don't have and then it just shows that you're want to continuously refining the product and also taking in the feedback and kind of trying to deliver something that they're looking for. Obviously if you're just starting out you might not be able to get that type of reaction but if you're at a point where there's enough battle cards and enough usage for you to actually reach out to folks I would recommend doing that. Finding your champions right champions are so important. I'm not Carolyn Klinger is here Carolyn if you're here hi but Carolyn runs market and competitive intelligence at affinity and she almost a year ago at one point we were talking about win loss and she said that one of the most important things for folks who are running CI is to find ways to influence without necessarily having authority right and I think to your point Mimi reaching out to those sellers who are using the content and finding ways to to maybe work with them that's one way in the absence of authority you can maybe hopefully start to influence the folks aren't using CI. That's so funny just just the chime in you know we ran a workshop with an analyst firm and when they found out that I was a sponsor in CI she said oh I used to do CI they have no power no influence and no money it's a really hard job and I was like thank you thank you for understanding so absolutely where you can find influence where you can find champions you gotta find you gotta do it. Absolutely and on the on the overcommunication thing before I throw it a Sheila for for some questions definitely reliable for myself as a content marketer because the way you think of it is if you publish some amazing new piece of content say the state of competitive intelligence you wouldn't just send one email and then because because to August point you have to assume that yeah most people aren't they're not gonna notice it over there forget so think like a marketer I guess in these situations he got a it's gonna take a few tries to get the message across so before we move on to our next insight Sheila do we have any questions that are on this topic for August and maybe to discuss. Yeah I just have one question that came in that I think might be helpful so someone's curious if you're sort of starting out and kind of new to owning the competitive intelligence program obviously over communicating is is really effective but even getting getting really tactical here like what cadence do you both set in terms of like when you're getting in front of your sales teams is it monthly weekly daily like do you have sort of set meetings that you're going to just curious to get kind of in the weeds of your of your programs there in terms of getting in front of the sales team. Well for us it's it's a it's a combination of set and let's say ad hoc opportunities to get in front of our sellers so we do have a monthly engagement with everyone in the organization and it's primarily attended by sales and that's our opportunity to provide our most important competitive updates from the last month. We usually do a deep dive on some particular topic whether that's a competitor or a product and then finally we provide some sort of competitive intelligence upskilling as well we recognize that others inside of the business are doing their own competitive intelligence and varying forms we want them to be able to do that ethically effectively those sorts of things so we actually teach them how to do their own competitive intelligence and amongst the many things we do now that you know this coming Thursday our webinars actually a reintroduction to crayon as a competitive intelligence resource for everybody inside of our business. So that's that's a regular thing we do on a monthly basis we have a regular cadence with specific sales teams and product teams inside of the business as well some of those are are frequently as every week most of them are monthly also and then we do occasionally when something of significant or important happens convene the appropriate stakeholders inside of the business for something that's kind of outside of the step of what we do on a regular basis. Anything you would add to that Mimi in terms of the cadence and what you're doing over at Akamai? Sure I'm super impressed by August's program we're not quite as mature in that front simply because we have a very large disperse sales force so we've opted not to hold our own meetings just because there's so many meetings right for that those teams have to attend what we did especially early on as we were introducing Cran was you know get on the agenda of the chief sales officers QBRs and all hands meetings then you know we would kind of draft off of that and attend the regional GLEads monthly as well and now that we're a little bit more established it's more on an ad hoc basis where we get in front of teams based on requirements or issues that they're seeing their pipeline that they would like help on because again there's about 4,000 sellers around the world it's kind of hard for us to plug in it's been a challenge actually for us to get in front of literally everybody outside of again that that all hands event which happens on a quarterly basis what we typically do is more of the ad hoc communications we have a web x we use web x so we have a a channel dedicated competitive that's where we actually push out a lot of information and that's one of pretty valuable resource for us to keep people in the know. I mean I think your detail about getting into the the meetings of the sales organization that's that's a detail I skimmed over and most of those monthly meetings are the weekly meetings that I talked about are actually the appropriate member of the market and competitive intelligence team engaging into those meetings so I you know it's I don't want to oversell the maturity of of of our program here because we we do limit ourselves to that one monthly meeting that we host because you know we're in a similar situation there are so many meetings inside of the modern organization. Fantastic yeah that's all be that for now Connor. Thank you Sheila. Cool so we will move on to top insight number two so as you can see here nearly half of the CI leaders who took our survey this year said they are not doing win loss analysis so I'm starting with you maybe I'd love to hear from from both of you if you could just share a little bit about your your experiences with win loss analysis and it may be a less energy that you you've learned along the way. Sure win losses this is very very tricky I'd be interested to hear the experiences of folks listening in so previously I headed up competitive intelligence at HubSpot and we ran win loss with a third party vendor they would we would you know source loss customers and they would reach out interview summarize all of that good stuff it was really really effective it was reported out to leadership really successful program it was something that we wanted to do an Akamai same vendor same process really hard connect rates we we never ended up getting the volume that we needed to adequately get insights and so you know that was definitely a learning that maybe especially when as I was tasked on building a competitive program which included win loss that we didn't have to go full throttle and go for the like the nirvana state which is talking to lost customers and so my team has kind of backed up a little bit and started internally so win loss is not just talking to turned customers it's also you can have interviews and and have conversations with the reps that lost those customers skip those learnings as a starting point and so we found success in being able to grab those stories put that in our battle cards so that others can learn from those lessons and move from there but that's really the state of win loss in terms of a formal program here at Akamai we also use our Salesforce data for win loss analysis which is another component of it as well. That's a thank you how about you August your your yours would win loss and maybe a lesson or two learned along the way. Yeah so so win loss the return on the investment is really significant and I think you know Mimi's example for the program at HubSpot really bears that out and I would absolutely validate that based on win loss that I've done in my time at I British Telecom and Verizon and and that we're doing here at Delpekt as well the investment both on time or money can be really quite significant so it's it's really quite telling that the return the insight that comes from that investment is so you know it is so valuable but to say that sometimes it takes a while to convince the business to let you pursue that Nirvana state has made me describe it and that's really a third party so truly truly objective and some of it preferably somebody who specializes in doing win loss interviews because it is a specialty some people do it well some people do not but you know that that third party is going and they're talking to your losses your wins and your no decisions if you decide to extend the the aperture that that broadly in a lot of instances I'd really strongly recommend you speak to no decisions as well just to put that out there and and the examples that Mimi gave of some of the work that that she's doing at Akamai with the Salesforce data and conducting analysis and and doing internal interviews are really valuable way to get started on win loss and kind of get your stakeholders a little bit hungry for the insights that could be available if they make that investment now the investment of your time is still going to be really significant so stakeholders need to understand there is an opportunity cost associated with us taking this internal approach to win loss but if for example in an enterprise oriented organization just to say that you know really quickly getting the perspective of the account executive the bid manager maybe a solutions engineer and a couple of other stakeholders you will you will get that rosham on effect of you know what the you know what the AESaw was not exactly what the bid manager saw was not exactly what the solutions engineer saw and you get a much greater idea of systematically what really is working inside of your business even with those internal interviews so what I'm hearing for folks here who who are dying to get started with will loss they they know the value and they just don't know where to start it sounds like first of all it's maybe adjust your expectations like this is this is a marathon on sprint and also and you know you're gonna you know maybe some of you have have executive leaders who who love win loss but let's assume that's not the case you're gonna have to build a business case for this and it sounds like one of the best things to do there is just start where you can right maybe with the with the Salesforce data in the in the internal interviews with your sales reps and the account managers didn't manage just whoever it may be don't expect to just to all of a sudden get the get a ton of insight from your buyers themselves do what you can internally use that to start building a business case did I is that a fair assessment absolutely yeah and I would add to that it will make some of the stakeholders that are sometimes skeptical of of win loss or maybe a little wary of it and I'm thinking here particularly about sellers that feel like hey is this is this an exercise to kind of like rat me out for them to recognize actually this is a systematic analysis of the organization's effectiveness of selling and winning in the market definitely sure it looks like we've had some questions come out any questions on win loss that we can throw to August and Mimi here the first question actually there's two I'm gonna kind of combine from rena and kevin any best practices that you can share for these programs on how to get customers to participate I'd actually get them to the interviews especially maybe with um shurnt customers like how are you going to get their thoughts on why they potentially didn't renew so I'll pass that to august first oh okay that's that's a that's a really good and a very difficult question um you know we've been all over the place and just like just like Mimi's experience particularly on the enterprise side getting customers to respond has been more difficult I will say at least in my experience small and medium business customers are much more likely to respond to an inquiry much more likely to be responsive to if you or your partner that that may you know if you've got a partner that that's doing the interviews is offering in any sort of incentive with that and sometimes that comes into the the cost of a you know of that holy grail win loss program as well as you know some sort of charitable donation or maybe a gift card for for participating in the win loss interview um more often than not are outreach absent compen you know some some form of compensation is really based on the the premise that we're trying to be better and you know fire a churrent customer we understand we did not serve you well um you know in this in that instance and you know you're not perceived this as as as having served you well we would like to understand more about that um and in my experience and Mimi had a love in your perspective on this you know customers particularly if they're maybe a little bit not thrilled with you would appreciate the opportunity in a safe place in a psychologically safe space to tell you why they're not happy with you now absolutely and that's why having a third party conduct the interviews also tends to increase the accept rate because they know that they can be truly honest and that that third party is not really it's not a seller they're not trying they're not trying to pitch them right anything in this fault conversation it is truly to learn but I understand like then that there's a there's a cost associated with hiring an outside party but I agree 100 percent with with August we we use the the same kind of phrases of like we didn't sort of you the way that we wanted to on reach out and learn what we could have done better to help us improve and incentive is important it doesn't have to be a $300 500 incentive a small amount I think is very much something you can swing and it does make a difference in terms of again increasing the acceptance rate having an executive sponsor also is important to eat if it only in name both at HubSpot and at Akamai even though the Akamai experience wasn't quite as successful we had the emails that you know that we sent out to the turned customers all came from our EVPs or the CEO where it was a message directly from them you know saying that they were we were trying to improve and you know we were looking for feedback nothing else versus someone like myself or anyone else you know emailing the the weight of it is not quite as high it is what it is all those components help improve right your acceptance rate awesome thank you both we have another question that came in from Neil who's also doing win-loss analysis based on CRM data as well as customer interviews and would love to know more about how to maximize the return on investment for this kind of work so I'll pass that to me because I know you had mentioned the CRM data but yeah how to just get I guess the most out of this type of work I think it's the most effective when it's tied to a business objective right if there's a major launch of something and you need that information that's where you should be focusing on instead of like let's just anyone anyone on anything let's ask them the questions so even with that approach you can get some answers but the more focus it is and the more it's tied to what executives are really thinking about the more successful it will be for sure ROI is kind of tied to whether or not you can influence or impact the business so one of the more particularly effective kind of I would say quasi win-loss research streams that we had at HubSpot was on differentiation and our what we said we were good at versus our competitors and so it was actually a mixed research model where we had customers of ours reinforced whether or not our differentiation was all that different and we also interviewed users of our competition and asking the same questions and the data that came back which we presented to leadership was our competitors are using exact same differentiation as we do and their customers feel exactly the same way about them that ours you about us that's a problem right that's that that if everyone feels the same way it's not differentiation so I know that that was a particularly effective research stream because it's top of mind for our leaders as we were trying to evolve the business so where you know there's a hot topic tie your win-loss higher research to those pieces awesome anything you would add to that August yeah I love that idea of reinforcing and revalidating or correcting your assumption about differentiation things as being a you know a great area of focusing your win-loss activity you know and picking up you know at me at least point about you know aligning with other things that you're you know seeing in the business to the extent that you can align your win-loss with any strategic objectives that the business may have you know if there are strategic priorities or initiatives that are clearly articulated by your leader 15 the opportunity to shed insight into those through win-loss is is a great way to demonstrate the value and get that return on the investment I have one more question in this section before we move on Connor this is sort of related to balance and quantitative and qualitative information that can come through so August I'll pass this over to you first when you're doing you know win-loss how do you sort of focus on sort of only quantitative or how do you like yes strike that balance and looking at the depth of qualitative as well right well I've always been a fan of the hybrid research model that that Mimi was talking about a moment ago that that does mix qualitative and quantitative and that you know can always be a little bit fraught sometimes you've got stakeholders that really prefer one versus the other you know very finance minded people really like the quantitative people from you know marketing and other functions tend to like much more the qualitative but I find by mixing the two you can really scratch everyone's itch in terms of the insights that you're bringing back and you know and some insights are you know very qualitative in in nature for example and and you know particularly in a business that you know a B2B setting you really don't have enough at bats sometimes to to really go deep and quantitative you know if you were if you were fully quantitative you might look at a situation and say oh are win rate against this competitor is really really improving well you might just be more aware of where you're coming up against this competitor in the market and and and and um marking that capturing that in the in the CRM data more so if you go purely quantitative you might take yourself down a path where the law of small numbers is working against you and in qualitative insights are a great way to to make sure you don't over index on that I think we're good for questions for now Connor cool thank you Sheila we will move on to our third insight from the state of CI this is a lot so I'll explain here so in our survey of CI leaders we we give him this list of whatever it is 10 or 11 sources of competitive intelligence places where you get or people from whom you get competitive intelligence and we ask everyone for each of these can you please tell us if you think this source is extremely valuable valuable somewhat valuable or not valuable at all and then as you can see we've we've ranked them here so employees and coworkers was the was the source of CI that was called extremely valuable by the highest share of of CI leaders so 63% of CI leaders told us that the intel they get from their co-workers is extremely valuable so I think it's safe to assume that almost everyone on this call wants to get more intel from their from their co-workers especially those in the field and in sales and customer success so we'll start with you here Mimi we would let it know if you have any tips for the folks in the audience about sourcing this this intelligence from the field from the front line yeah and my tip ties into kind of the first talking point that we had which is kind of you know roadshow be be in front of the sellers and the product was and you know all the stakeholders that you that you have because the more that you have our top of mind and more likely they will be to think oh Mimi's team probably would like to see this right this is this is the hard work of of influence it's not just a CI job it's you know almost everyone's job right if you have the work of other teams and get information from other teams what's the best way to engage and create those relationships so I think one of the first pieces when we first discuss this was I think it would be difficult to expect all of the insights and all the information's without putting in that hard work right of showing your stakeholders that your team is responsible for enabling materials for competitive intelligence for battle cards or what have you right I think when you show up with the assets that your stakeholders need then again that creates that goodwill that relationship where it comes back to you I think expecting that from the beginning it's just going to be harder much much harder I agree with the data I agree with probably everyone in this in a space getting information from the field is be most helpful ensuring up what you know about your competitors but that is a long-term relationship play I think more than anything else how about you August yeah I absolutely agree with with Mimi's comments that it is a long-term relationship play and you do have to demonstrate that value there can be a little bit of that chicken and egg if the competitive intelligence function is new that you know how do you demonstrate the value of your insights if if one of the most if not the most important source of your insights is not providing you those insights yet yeah so so that's you know maybe something where you lean into the other sources where you can demonstrate some of that value initially and then you know to to Mimi's point about being in front of mind with these with these different stakeholders and showing up with the assets they say like oh this is what this goes into you know people will share insight and they'll take that investment in their own time to do that if they can see that that's going to deliver value back for them or for the business as well another thing too is you know we talked earlier about over-indexing on communication you know one of the things I think here is over-indexing on phrase a little bit as well so you know particularly the you know the teams that are bringing really valuable or important insights to the extent that they're comfortable in your corporate culture is comfortable having that highlighted you know find a venue where where you can do that so another thing we do I mentioned that monthly call that my team and I host when a particular valuable insight comes in from the business we have a little award ceremony for for the person who shared that insight and and that kind of illustrates like hey we will we will recognize what good looks like here and you know if you bring us something really good we will you know we will share those kudos with you so here a couple things first of all so feel intelligence it sounds like like win loss it is a marathon not a sprint right you have to like I said do what you can at first don't expect reset your expectations don't expect to you know launch your CI program then get made just get overwhelmed by all this amazing intelligence from the field so make that make that change in your expectations and like with win loss where you're just do what you can at first build the case build that trust and the other thing I'm hearing is and you know maybe you call this out this this insight ties in nicely with with the first one that we discussed if there's one action I'm so far for everyone you know on this call it's you know look at your sales teams calendars see where they have those standing meetings maybe there's a daily stand-up or weekly whatever and if you don't already go go and you know advocate for yourself to get on the agenda periodically because that will you know kind of it's a two bird situation right that will help drive that drive that adoption the material is your creating also you know you'll start creating that that that feedback of intel back to yourself right and three birds I don't want to too crazy here but also as you're building that trust that'll help you with those internal win loss interviews right so get in front of your sales team you know advocate for yourself because no one else is going to at least at first right Sheila do we have any questions on field intel for you on we have one question that I think is helpful from Chris just the best way to get this information from folks at your organization or from AES and SEs specifically like Slack channel like how do you both get this information for your programs so we you know again you know communicated out the different ways we can we can receive this information we highlight it the add new intel button on crayon and we we bring that up every time we talk about that particular tool the reality is sellers sellers in particular but any stakeholder they'll go to their tool of least resistance so they'll go to email or in our case teams you know if you're on Slack instead they'll go to Slack you know they'll do what they feel most comfortable with and and quite honestly from our perspective you've got to be open to receiving field intel from any channels yep absolutely it doesn't matter if it's you know a direct email to me or the distra list or we I do every now and then I go into crayon I do see something that it got uploaded so you just kind of have to reinforce all of the avenues that your your field can share information if you don't just let them know that you're monitoring it that that's a gift right so definitely accept it regardless of where it comes from or where it's posted it sounds like the the slightly coy answer to Chris's question is however your sales reps and and your AES and AES AES however they want to submit field intel that's how that's how you're going to accept field intel because you know whether you want folks to use the the content you create for them or get intel from them it's got to be easy right it has to be as as painless as possible and it's a to echo one of August's points which is giving kudos right of one of the most powerful things that we we've done and it's again it hasn't created a tsunami right of insights or field intelligence is when we do get a pricing sheet right or an RFV quote or something like that we share it with the places that you know people care about competitive and we say so and so purchase it and then folks kind of oh well in my inbox I got probably four or five of these right I can forward them along like reinforcing that behavior in multiple different ways that that's how you kind of help people understand the art of the possible of CI right because they don't know what actually matters and it's going to be really hard for the for folks to gauge whether or not it it's something we're sending right at the end of the day nice thanks um I have another question about um how is third party independent intelligence viewed not bespoke um I don't know if that's enough to go on I've assumed it's some stuff like Gartner what four five one um forced for research very positively viewed at least in my organization it's um third party it's reputable obviously we use a lot of um that kind of research to reinforce our positioning because not us saying that we're great it's a you know in an independent um kind of uh research group verifying that um so that's actually one of the the mandates of for for my team from from my leader which is to bring more of that market perspective in because we are insular we talk about ourselves we care about ourselves we think it only about ourselves right um and we might miss some of the larger trends and so that is a component of what we bring into the the the the the business but it's not necessarily something we share a lot with reps because they just want to sell it's um that's actually more on go-to-market product right those are the teams that our leadership um they care about that type of information I think sellers care about that information when it's a proof point that validates the positioning here point maybe um and so you know if we're talking about like a Gartner Magic Quadrant for example just give me a quadrant I definitely don't want the report um but I want you know I want the quadrant where we're in the upper right um and you know and and you know to me me's point to the um you know whether it's the product organization or product marketing or marketing or you know some other part of the business will be much more interested in going into the depths of that report thank you both um I think that's good for now Connor we can move to the next one awesome thank you Shia so this is uh this is a fun one this is one of my favorites um from from the new state of CI report so like I said we surveyed both CI leaders and stakeholders so one of the questions um that we asked the stakeholders who took our survey is do you get ad hoc support uh from from your CI team or in other words do you do you get help with one-off requests and folks have to yes or no and then a subsequent question was do you trust the insights that you get from your CI point person or team um and every single stakeholder who said they do get ad hoc support said yes I trust the insights I get from my CI team and as you can see the stakeholders who do not get that ad hoc support well just over half of them said that they trust the insights they get from their CI team so this seems to suggest that one of the keys to earning the trust of your stakeholders is finding ways to support them on that ad hoc basis so I'm curious in August we'll start with you if you don't mind um what are some tips you have for folks when it comes to uh you know um supporting stakeholders on an ad hoc basis without just you know uh responding to every single thing that everyone wants right yeah because you you've got to fit this in when you think about the the typical competitive intelligence portfolio there are long-term activities you know project you know really significant projects there's a lot of recurring work that you've got to have capacity for if you're doing win loss that's that's burning up a lot of cycles on a monthly or a quarterly basis that's not available for these sorts of projects the two main things i'm you know pieces of advice i would offer for for a CI team that's trying to figure out how we can best support ad hoc um requests the first thing i would say is recognize the requests as a general statement of a need so one of the things that that i've observed is very often ad hoc requests come in the form of a specific research path that the stakeholder would like me to like me or the team to undertake and how i address that is first recognize that almost like i'm a consultant and i say okay it sounds like you've got a really interesting need there there's a there's an important decision that you're trying to make could you tell me a little bit about that and apply some of those competitive intelligence solicitation skills back on our stakeholders to understand what it is what they really need because the the original statement is is a once that hides the need and it's your job to kind of find the need um so that's that's the first thing and the second thing i would say is um to always remember that you have superpowers um that the ad hoc request that once you've identified the need is something you will be able to address in you know two to four hours and maybe you know time boxing um how much time based on how much time you have available to execute on this you will be able to deliver with your skills and your expertise and your knowledge so much more than the stakeholder was ever going to be able to get on their own and even if it doesn't completely answer the mail you'll you'll elicit some really great feedback on what the larger need is as well and sometimes i think CI professionals because we do have that analytical mindset kind of feel like you know every every request that you know i i have to do exactly what they asked me to do and if it's like a 20 week engagement you know that that occupies all my time well i guess that's what i guess that's my life now basically and to say well you could probably do a lot for them if you took time to understand the need and time box a certain amount of time and you know recognize your own superpower within that small amount of time much more than you might think you can do thank you what do you think Mimi? August so elegantly wrapped up some of them what we experienced in a much kinder way which is sometimes you get these requests from restaurants like what are you asking you like you want us to boil the ocean right so getting really specific and engaging and and clarifying well why right usually most of time there's a very specific thing they're looking for they just choose not to tell us right until a couple of cycles but oftentimes it is a very reasonable request if you if folks on the call are trying to understand or figure out how to balance all of the requests that come to the organization the way that we've done it is through kind of tearing of requests so you can imagine we have a lot of reps we have a lot of products we have a lot of competitors and we just can't address them all so we push folks to a form where we the questions we typically ask over and over again we put that in there to get them to give us that detail in advance and we also tie it to deal value right the higher the deal value the more likely we will make time to address it because we know it's going to be much more impactful to the business we also make it really clear that the way that our team is organized is through a top two competitors then two or two three and four and so on again it's based on revenue impact and so if a request is for a competitor that's lower down that's why we would potentially you know reject right a request and we give the validation why but that's the ad hoc sales side which is always part of the CI programs kind of remit you have to help sales but this is the way that we organize it there's another component of ad hoc request that we discuss which is the strategic stuff that comes from leadership from product teams and those are the ones we want to grab on to because at least for Akamai we started with winning over the sales team making sure that they were satisfied so that we could take that good will and start making those inroads right with the product teams and the leadership teams so the more as you see from this data you actually are getting front of those teams and show right what your teams capable of the more buy-in that you get so we do kind of grab on to those strategic requests sometimes are really hairy they're really difficult so we try to set expectations where those are the ones we look forward to because it helps kind of elevate the the group in the business I think absolutely concur I'm sorry Connor I know I don't want to say absolutely concur with you know with Mimi's perspective on particularly those more strategic ad hoc requests and I might have been polite and diplomatic but the language in my mind around those requests is very I heard you I yeah I feel heard and I feel seen thank you I think I think you're point about the tearing mean you're having a system for tearing is super impressive and that should definitely be everyone on the calls north star before you get there I think this this insight really drives home the importance of goals right of having just some kind of purpose for your CI program because in the absence of a purpose or a goal or an objective it's so easy I think to just find yourself constantly fighting fires and responding to ad hoc requests whereas just a nice simple filter is if you have a goal at least that can help you monitor what's coming in and say okay if I execute on this will I be working towards my goal or not right just said that at the most baseline level of of having a filter for those things right the other thing I'm hearing in Sheila just for the sake of time I am gonna I'm gonna ask me hold off on audience questions until we get through the the next slide but I don't think I'm hearing is that earlier we talk about how how sometimes CI folks need to act like marketers right in in over communicating and getting out the value of CI what I heard both of you say is that CI folks also need to think like sellers sometimes doing that discovery especially for for private marketers on the phone you if you were listening to a call recording with one of your sellers and you could tell that the you know the buyer was saying they want something but but not getting to the need you would want your seller to do that discovery right and really uncover the need underlying the quest the request I think CI folks need to do the same thing right do that discovery with your with your stakeholders yeah kind of I know we're you know just real quick I'm thrilled that you use the word discovery because you know we we actually recently translated our project charter to a discovery document and what what we found is and we reoriented the throng sales language that stakeholders that were coming with ad hoc requests were much more interested in engaging with us because then they understood it in the context of their day to day job or in terms of the organizational process as well that's awesome yeah gotta be gotta be curious last we will have a few minutes I think for for any any additional audience questions the last insight and this this ties in with with the idea of goals and tearing and filtering ad hoc requests one of the questions we've been asking since the very first year of the state of sea ice since 2018 we've been asking folks if they have key performance indicators defined for their CI program and in 2018 16% of CI leaders said yes and this year 36% of CI leaders said yes that is a 125% increase you know since 2018 so folks are getting better and better at measuring the impact of competitive intelligence so maybe we'll we'll start with you if that's okay I'm curious for folks on the phone who do not have KPIs for their CI program any advice you have for those folks to to get started yeah I'm start simple and our our KPIs frankly are very very simple too at least we're about two years into the journey here at Alka Mai so a couple of KPIs some are hard numbers and others are a little bit more aspirational the hard numbers is number of battle cards right we started with technically zero there were existing battle cards that predated my my arrival that we converted but we wanted to have a good baseline again bait using the tears we wanted the tier one competitors covered and over time we will build more right to address all of the others so that's one KPI that you know is part of my team's objectives that goes all the way up to the CMO another is winning more more competitive deals I think that's pretty self explanatory it can be difficult depending on your systems to actually measure win rates but I think we're using more of a qualitative like are we doing a good job are we getting good feedback versus pure measurements I think once we get to a point where we can actually get those numbers that would be great we're just not there yet and then it's about expanding the influence of the team which is you know not numbers based but important as we try to move out of pure sales enablements to some more of that strategic work that honestly is the most interesting and I think what we all get a kick out of doing thank you how about you August any advice for folks who are hoping to establish some KPIs yeah maybe has some great advice on keeping it simple and those are really fantastic examples examples an additional dimension I'll mention that that we've tried to follow is to align our KPIs with basically input to the KPIs against which our stakeholders are going to be measured so so things like win rates which are difficult to get win rates against particular competitors we know for a fact that our reps are almost 50% more likely to win an opportunity when they name a competitor or an incumbent so getting them to come through that activity and and demonstrate that you know that knowledge of the opportunity that they're trying to sell against is also a factor because it reflects how effective have we been at conveying that as an important part of the pursuit opportunity and then also is that behavior that that we you know that we know translate into more wins is is that behavior being adopted in the business Gotcha so I think for the for the folks in the call who are starting from zero I think it's really important to to take away from this that there's to start defining KPIs for UCI program you don't need any budget you don't need a tool of course these things are good but um how many what are you producing how many bad cards you're producing and you know much competitors are you getting good feedback from your sales team these are perfectly acceptable ways to measure success and the theme throughout this this this conversation right is it's all a marathon not a sprint so you have to um think about it like a process incremental process where you're you're starting with what you can and using that to build to bigger and better things um so that thank you both so much for walking through these insights um with us again we will we will shout out in just a few minutes that the state of CI reports you all know where to get it uh because that's where all these insights came from so if you if you enjoyed these five insights there's a lot more uh in the report we have uh eight minutes left so Sheila on the topic of you know building trust mistake hold is getting adoption getting more field intel KPIs anything we've discussed so far are there any lingering questions from the audience yeah there's a few good ones we can talk through we had one question that sort of um ties to these uh he sets together one round ad hoc support and measurement so i don't know if either of you have a best practice um metric or how you measure just the amount of ad hoc support that you are providing to the organization um apart from simply just the number of requests um august you have a a way that you're doing that today we're definitely on the journey there um so you know the congress point about about um iteration and improvement um we're we're on this journey of really measuring our ad hoc activity against our our recurring or ongoing activities as well um so we are in part measuring that by the number of pursuits let's say you know roughly the the person hours that are associated with those projects the the positive results as a consequence of those projects and alignment with strategic objectives as well you know so taking it back to to mean these really excellent point about prioritization one of the hurdles or one of the you know linds is through which we look at ad hoc project requests is alignment with strategic objectives as well and so we are evaluating ourselves based on how well we're supporting each of those and i would add you know i i am for my team love this but i kind of want to track all of the requests that we get our way even the ones that we decline right because that proves again the value of the of the team and um i'm sure everyone feels the pain at a loose yeah teams are very very small and so um i can actually then you know quarterly or annual summary um show my leadership the projects or the requests that we decline due to lack of staff right it usually isn't enough to get things over the line but it's just kind of reinforces a the value that your team provides because you're getting all these requests and until you don't have the bandwidth right to support everyone in the business um again we know that that's not the end goal but it's just another proof point so um that's one of the beauty beauties of the form is we have every single request right um and when we do have the MRR value tied to it we can extrapolate out the value of our assistance and so what we can provide to the business it's a very simple i think way to at least um keep your team floating right if you're trying to figure out ways to prove value to your leadership that's a great idea i'm gonna steal that also then i'm gonna conclude with one sort of big question from Casey Ward thank you Casey um i think this is a great one to kind of take us home because it summarizes a few of the things we've been talking about but all the great work that you're doing you know from win-loss insights and competitive updates um what's your cadence for your program in terms of sharing all this great work with your executive team and does that differ from the cadence where you're sharing all you know these results with your product or revenue leaders specifically um me and you'll pass that to you uh it is a very different cadence and it's very very specific so for our executive team i do accordingly summary and it's only stuff that i know that they care about it's not about how great my program is or how happy um we make people or metrics because that's not what what matters um it's uh uh an update on our competitive posture for our two major business lines so it's two updates a quarter um and so that's been getting good traction and it was not something that i just proactively did it was over the course of the year this my CML approach me and said okay it's time for you to start doing these executive briefings so again it don't start out with that intention um you have you do have to earn it it's the truth right um for our product leaders um we're looped in on kind of the regular cadences the the the team meetings the regular like projects that we're a part of um we have take out campaigns for example where we go to market motions so our team is involved in that and so we just kind of plug in naturally um and then you know as we discuss with with august like the sales side is the kind of a constant update of like here's a new piece of a battle card here's a new insights here's whatever it is that is just more real time because we want to reinforce with those sellers that um someone a group is actively looking after that content and making sure that it's up to date and it's very similar situation on our side as well um so you know quarterly readouts for our board and our executive team quarterly readouts for the whole sales organization and then supplemented of course with like I said our monthly readout to the whole you know to the to the whole business and it's and that's geared more towards the you know the you know the the rank and file level is mostly the executive level of insights but then engagement in those different sales product team meetings is appropriate as well thank you Sheila those that you're and shout out to kc kc contributed to this year's state of state of course so thank you for doing that and for being here kc and asking an awesome question to bring us home before um I spotlight august and mimi's uh linkedins in the report i'll be a attempt to just to to give you all some some action on this conversation so when you leave this call today make sure first of all most that you know why you're doing competitive intelligence which sounds a little silly but make sure you're crystal clear on the on the purpose of why you're doing this work um because that's going to help you uh establish those initial kbis and start filtering those ad hoc requests and then from there make sure you're you're you're on you're getting face time regularly with your stakeholders right because that's going to help you drive adoption start um increasingly amount of field intelligence that you get and you'll start building the trust that you need to start doing someone loss analysis as well right so make sure you know why you're doing this in the first place and and start spending an uncomfortable amount of time with your stakeholders um so if you go to crown.co slash state of competitive intelligence or go to our website and it's under the resources tab you'll find uh the state of cia report which has all the insights we discussed today and many more and also a quake a quote from from kc thank you again kc uh and thank you so much again to mimi and august both of you this was um this was so much fun and we really appreciate you both taking the time out of your data do this uh if you're wanting to act with mimi in august you can find them on linkedin uh but that is all we have for today so thank you everyone for being here and we'll uh we'll see you next time thanks everyone thanks so much everyone\", metadata={'source': 'transcription.txt'})]"
      ]
     },
     "execution_count": 15,
     "metadata": {},
     "output_type": "execute_result"
    }
   ],
   "source": [
    "from langchain_community.document_loaders import TextLoader\n",
    "\n",
    "loader = TextLoader(\"transcription.txt\")\n",
    "text_documents = loader.load()\n",
    "text_documents"
   ]
  },
  {
   "cell_type": "markdown",
   "metadata": {},
   "source": [
    "There are many different ways to split a document. For this example, we'll use a simple splitter that splits the document into chunks of a fixed size. Check [Text Splitters](https://python.langchain.com/docs/modules/data_connection/document_transformers/) for more information about different approaches to splitting documents.\n",
    "\n",
    "For illustration purposes, let's split the transcription into chunks of 100 characters with an overlap of 20 characters and display the first few chunks:"
   ]
  },
  {
   "cell_type": "code",
   "execution_count": 16,
   "metadata": {},
   "outputs": [],
   "source": [
    "from langchain.text_splitter import RecursiveCharacterTextSplitter\n",
    "\n",
    "text_splitter = RecursiveCharacterTextSplitter(chunk_size=1000, chunk_overlap=20)\n",
    "documents = text_splitter.split_documents(text_documents)"
   ]
  },
  {
   "cell_type": "code",
   "execution_count": 17,
   "metadata": {
    "collapsed": true,
    "jupyter": {
     "outputs_hidden": true
    },
    "scrolled": true
   },
   "outputs": [
    {
     "data": {
      "text/plain": [
       "[Document(page_content=\"Welcome everyone. Thank you for for joining us today for the State of competitive intelligence in 2023. My name is Connor. I'm on the content team here at crayon and I am joined today. I'm very happy today to be joined by Mimi in August who run competitive intelligence at Akamai and Deltech respectively. I am also joined today by Sheila Leihar who is our senior director of content here at crayon. She will be monitoring the the Q&A section. So periodically throughout today's session, I will I'll throw it over to Sheila and she will show chime in with some questions that we're getting from all of you. So please throughout this session, any questions that come around please put them in that Q&A section and you know if it aligns with what we're talking about, we will we'll discuss it in real time and then we also have some time set aside the end for questions that we aren't able to get to. We also have a poll question that we will push lives in just a minute. But first before I get to it\", metadata={'source': 'transcription.txt'}),\n",
       " Document(page_content=\"before I get to it today's agenda, Mimi and August, thank you so much for being here. Thank you for having us. Thanks Connor. So like I said, super simple agenda for our time together today. In not even two minutes, I will just quickly give some background on the state of competitive intelligence in case anyone is not familiar with what it is. And then for the majority of our time together today, we will be walking through the top five insights from the latest edition of the state of CI at the 2023 edition. And for each of those insights, we have a discussion question and those discussion questions will drive most of our conversation. Plus, again, the the extra questions that you all put in that Q&A section. And then like I said, time permitting, you know, if there are there will definitely be questions that we don't get to and that's how we will wrap up our time together today. This one's a lot of background. Crown state of competitive intelligence was launched originally in in 2018.\", metadata={'source': 'transcription.txt'}),\n",
       " Document(page_content=\"in in 2018. So if you're familiar with, you know, HubSpot state of marketing or or Salesforce and state of sales that crown has the state of competitive intelligence, of course. So we published a new edition every year since 2018. The latest edition of the 2023 edition is number six. And it's based on a survey of more than more than 900 competitive intelligence leaders like me and August, as well as stakeholders, folks like sales reps and CSMs and other folks who use competitive intelligence throughout their day to day. And since the very beginning, the goal of state of CI has has never changed. The goal is to be the source of truth for anyone out there who wants to know why and how companies invest in competitive intelligence programs. So that's the state of CI. At the end, we will we'll give a shout out to the report itself. So you all know where to to get it. So you can go download if you haven't already. And yeah, like I said, the most of our time today will be spent walking\", metadata={'source': 'transcription.txt'}),\n",
       " Document(page_content=\"be spent walking through the top five insights. But first, we do have a poll. Caitlin is going to set that live. So what is the biggest roadblock keeping you from driving adoption of competitive intelligence or or usage? And you can see you have three options there and another. So if you can all just take a few seconds to answer that poll question. Cool. So it looks like with almost half of the poll respondents, the biggest roadblock is stakeholders don't fully understand the value of CI. And then it's close between my stakeholders have trouble finding CI and other and then only a few folks said that their that their stakeholders are unaware that CI is available to them. So before we get into our top five insights, obviously, Mimi, I'm just curious if you're all at all surprised by the results of that poll. No, I'm not actually and I was glad to see it because the awareness piece is for when you're starting out and it sounds like at least for the majority of folks who are on this\", metadata={'source': 'transcription.txt'}),\n",
       " Document(page_content=\"who are on this call, they made it really clear to the folks that they work with, right, that they're available and people can find them. I think it's the value piece is longer term and a little bit more difficult. So definitely not surprised by it. Something that constantly needs to be refreshed as well with new stakeholders, new understandings of what competitive intelligence is able to do into scenarios that they're facing. And sometimes a stakeholder may not even realize there's value that competitive intelligence can deliver in a particular situation. And so sometimes they don't ask. Gotcha. Well, thank you both for the, I know that that wasn't prepared. So thank you for the quick reactions to that. So like I said, most of our time today will be spent discussing the top five insights from the state of C.I. So the question we ask here, all the C.I leaders who took the state of C.I. survey, we asked them, you know, what, what percentage of their opportunities are competitive. And\", metadata={'source': 'transcription.txt'}),\n",
       " Document(page_content=\"competitive. And as you can see, for the average B2B software company based on those responses, two thirds, 66% of deals are competitive. So our discussion questions for this first insight for Mimi and August is, how do you get sales reps to adopt the competitive insights that you share with Mimi? Would you mind sort of kicking us off on this topic? Yeah, absolutely. And I think, you know, August and I had a very similar reaction, which is road showing C.I. and the things that are available to not just the sales team, but all of other teams who work with it's not a one and done, right? It's a constant evolution, constant dialogue, reminding people to either adopt new behaviors or reinforce behaviors. That's something that is a constant for C.I. leaders and C.I. teams. So if you want adoption, you want you, you have to have that story and you have to tell it over and over again. Yeah, absolutely agree. We found definitively that repetition is your friend, that whether it's awareness of\", metadata={'source': 'transcription.txt'}),\n",
       " Document(page_content=\"it's awareness of a particular resource that they can apply or specific insights, for example, let's say how to handle traps that a leading competitor may set for you that getting out in front of a sales force again and again continually reinforces that knowledge and that awareness of those resources and between turnover in a sales force and let's say maybe some people learn things different ways and just the the fallibility of human memory and just to reinforce, reinforce, and repetition are your friends. So if I heard you cracky that August, so you're saying that you will not only reinforce, hey, we have this this battle card on this competitor, it sounds like you'll even go a level deeper and sometimes just focus on specific content within that single back data here, that right? Yes, absolutely. We will hold host sessions and engage individual accounting sometimes on specific sections of our battle card, for example, because we're seeing that they have they have a need or\", metadata={'source': 'transcription.txt'}),\n",
       " Document(page_content=\"they have a need or requirement of particular stage in the sales cycle or with a particular competitor that you know maybe is trap, you know, setting a trap that should not be as effective as it's proving to be and so we spend some time on those specific yeah, reinforcing those specific activities. Is that something that you will do as well? Mimi sometimes is go one level deeper beyond just here's how to you know, sell against this competitor and even go here's how to sell against this competitor in this scenario or when they set this trap, is that something you've done as well? Yeah, absolutely. In every context, every deal is different and so we try to tailor it when we have the time and we even when we're sharing battle card content, right? When the requests is specific enough, sometimes it's very, very general so we send the whole thing. If someone is looking for objection handling, right? We go to that tile and we link to that specific piece because that's the specific thing that\", metadata={'source': 'transcription.txt'}),\n",
       " Document(page_content=\"specific thing that they're looking for. I think a little bit of that white blob service, right? To to a rep and just kind of handing them exactly what they're looking for, it helps, right? Bring that good will that you need, right? In terms of what CI can offer and the usability of the product, that's important. Yeah, just so for the folks out there who who more for everyone, but specifically those folks those the half or so who said that they're their biggest row block is is getting their stakeholders to understand the value of CI. It sounds like if there's one thing they can do coming out of today, it's make themselves more visible and overcommunicate. It sounds like is there anything else again for someone who assume that at this point they haven't really done anything to drive from the value of CI? Is there anything beyond showing up and overcommunicate that you would you would recommend to those folks to make it more specific why we focus on sellers in particular? Do you have\", metadata={'source': 'transcription.txt'}),\n",
       " Document(page_content=\"Do you have any thoughts there August? I like the overcommunication framing because for you it will feel like you are overcommunicating oh my gosh, I can't believe I'm saying the same thing to them the third time this month, that sort of thing. But you're you're also over indexing on how much people have listened to you the first two times seeing you represented something. And I like me these point two about the specificity, you know, that every opportunity is different and being able to make for example a battle card or some other competitive asset real in exactly the situation that that an account team or a team of sellers might be facing, you know, demonstrate for them the value of what competitive intelligence is and kind of gives help some connect the dots between let's say a general competitive intelligence asset and their specific situation as well. I think you add there Mimi in addition to you know overcommunicating any other tips for folks who need help you know showing the\", metadata={'source': 'transcription.txt'}),\n",
       " Document(page_content=\"know showing the value of CI to their stakeholders. I think you might want to kind of create that virtuous cycle which is if you've had enough time momentum and usage of certain reps maybe not the entire chart field reach out to those reps and kind of do a little bit of a review or get feedback right. Here's a battle card these are the components is it actually helpful is it useful? What is it that you know you and your team need that we don't have and then it just shows that you're want to continuously refining the product and also taking in the feedback and kind of trying to deliver something that they're looking for. Obviously if you're just starting out you might not be able to get that type of reaction but if you're at a point where there's enough battle cards and enough usage for you to actually reach out to folks I would recommend doing that. Finding your champions right champions are so important. I'm not Carolyn Klinger is here Carolyn if you're here hi but Carolyn runs\", metadata={'source': 'transcription.txt'}),\n",
       " Document(page_content=\"hi but Carolyn runs market and competitive intelligence at affinity and she almost a year ago at one point we were talking about win loss and she said that one of the most important things for folks who are running CI is to find ways to influence without necessarily having authority right and I think to your point Mimi reaching out to those sellers who are using the content and finding ways to to maybe work with them that's one way in the absence of authority you can maybe hopefully start to influence the folks aren't using CI. That's so funny just just the chime in you know we ran a workshop with an analyst firm and when they found out that I was a sponsor in CI she said oh I used to do CI they have no power no influence and no money it's a really hard job and I was like thank you thank you for understanding so absolutely where you can find influence where you can find champions you gotta find you gotta do it. Absolutely and on the on the overcommunication thing before I throw it a\", metadata={'source': 'transcription.txt'}),\n",
       " Document(page_content=\"before I throw it a Sheila for for some questions definitely reliable for myself as a content marketer because the way you think of it is if you publish some amazing new piece of content say the state of competitive intelligence you wouldn't just send one email and then because because to August point you have to assume that yeah most people aren't they're not gonna notice it over there forget so think like a marketer I guess in these situations he got a it's gonna take a few tries to get the message across so before we move on to our next insight Sheila do we have any questions that are on this topic for August and maybe to discuss. Yeah I just have one question that came in that I think might be helpful so someone's curious if you're sort of starting out and kind of new to owning the competitive intelligence program obviously over communicating is is really effective but even getting getting really tactical here like what cadence do you both set in terms of like when you're getting\", metadata={'source': 'transcription.txt'}),\n",
       " Document(page_content=\"when you're getting in front of your sales teams is it monthly weekly daily like do you have sort of set meetings that you're going to just curious to get kind of in the weeds of your of your programs there in terms of getting in front of the sales team. Well for us it's it's a it's a combination of set and let's say ad hoc opportunities to get in front of our sellers so we do have a monthly engagement with everyone in the organization and it's primarily attended by sales and that's our opportunity to provide our most important competitive updates from the last month. We usually do a deep dive on some particular topic whether that's a competitor or a product and then finally we provide some sort of competitive intelligence upskilling as well we recognize that others inside of the business are doing their own competitive intelligence and varying forms we want them to be able to do that ethically effectively those sorts of things so we actually teach them how to do their own competitive\", metadata={'source': 'transcription.txt'}),\n",
       " Document(page_content=\"own competitive intelligence and amongst the many things we do now that you know this coming Thursday our webinars actually a reintroduction to crayon as a competitive intelligence resource for everybody inside of our business. So that's that's a regular thing we do on a monthly basis we have a regular cadence with specific sales teams and product teams inside of the business as well some of those are are frequently as every week most of them are monthly also and then we do occasionally when something of significant or important happens convene the appropriate stakeholders inside of the business for something that's kind of outside of the step of what we do on a regular basis. Anything you would add to that Mimi in terms of the cadence and what you're doing over at Akamai? Sure I'm super impressed by August's program we're not quite as mature in that front simply because we have a very large disperse sales force so we've opted not to hold our own meetings just because there's so many\", metadata={'source': 'transcription.txt'}),\n",
       " Document(page_content=\"there's so many meetings right for that those teams have to attend what we did especially early on as we were introducing Cran was you know get on the agenda of the chief sales officers QBRs and all hands meetings then you know we would kind of draft off of that and attend the regional GLEads monthly as well and now that we're a little bit more established it's more on an ad hoc basis where we get in front of teams based on requirements or issues that they're seeing their pipeline that they would like help on because again there's about 4,000 sellers around the world it's kind of hard for us to plug in it's been a challenge actually for us to get in front of literally everybody outside of again that that all hands event which happens on a quarterly basis what we typically do is more of the ad hoc communications we have a web x we use web x so we have a a channel dedicated competitive that's where we actually push out a lot of information and that's one of pretty valuable resource for\", metadata={'source': 'transcription.txt'}),\n",
       " Document(page_content=\"resource for us to keep people in the know. I mean I think your detail about getting into the the meetings of the sales organization that's that's a detail I skimmed over and most of those monthly meetings are the weekly meetings that I talked about are actually the appropriate member of the market and competitive intelligence team engaging into those meetings so I you know it's I don't want to oversell the maturity of of of our program here because we we do limit ourselves to that one monthly meeting that we host because you know we're in a similar situation there are so many meetings inside of the modern organization. Fantastic yeah that's all be that for now Connor. Thank you Sheila. Cool so we will move on to top insight number two so as you can see here nearly half of the CI leaders who took our survey this year said they are not doing win loss analysis so I'm starting with you maybe I'd love to hear from from both of you if you could just share a little bit about your your\", metadata={'source': 'transcription.txt'}),\n",
       " Document(page_content=\"bit about your your experiences with win loss analysis and it may be a less energy that you you've learned along the way. Sure win losses this is very very tricky I'd be interested to hear the experiences of folks listening in so previously I headed up competitive intelligence at HubSpot and we ran win loss with a third party vendor they would we would you know source loss customers and they would reach out interview summarize all of that good stuff it was really really effective it was reported out to leadership really successful program it was something that we wanted to do an Akamai same vendor same process really hard connect rates we we never ended up getting the volume that we needed to adequately get insights and so you know that was definitely a learning that maybe especially when as I was tasked on building a competitive program which included win loss that we didn't have to go full throttle and go for the like the nirvana state which is talking to lost customers and so my\", metadata={'source': 'transcription.txt'}),\n",
       " Document(page_content=\"customers and so my team has kind of backed up a little bit and started internally so win loss is not just talking to turned customers it's also you can have interviews and and have conversations with the reps that lost those customers skip those learnings as a starting point and so we found success in being able to grab those stories put that in our battle cards so that others can learn from those lessons and move from there but that's really the state of win loss in terms of a formal program here at Akamai we also use our Salesforce data for win loss analysis which is another component of it as well. That's a thank you how about you August your your yours would win loss and maybe a lesson or two learned along the way. Yeah so so win loss the return on the investment is really significant and I think you know Mimi's example for the program at HubSpot really bears that out and I would absolutely validate that based on win loss that I've done in my time at I British Telecom and Verizon\", metadata={'source': 'transcription.txt'}),\n",
       " Document(page_content=\"Telecom and Verizon and and that we're doing here at Delpekt as well the investment both on time or money can be really quite significant so it's it's really quite telling that the return the insight that comes from that investment is so you know it is so valuable but to say that sometimes it takes a while to convince the business to let you pursue that Nirvana state has made me describe it and that's really a third party so truly truly objective and some of it preferably somebody who specializes in doing win loss interviews because it is a specialty some people do it well some people do not but you know that that third party is going and they're talking to your losses your wins and your no decisions if you decide to extend the the aperture that that broadly in a lot of instances I'd really strongly recommend you speak to no decisions as well just to put that out there and and the examples that Mimi gave of some of the work that that she's doing at Akamai with the Salesforce data and\", metadata={'source': 'transcription.txt'}),\n",
       " Document(page_content=\"Salesforce data and conducting analysis and and doing internal interviews are really valuable way to get started on win loss and kind of get your stakeholders a little bit hungry for the insights that could be available if they make that investment now the investment of your time is still going to be really significant so stakeholders need to understand there is an opportunity cost associated with us taking this internal approach to win loss but if for example in an enterprise oriented organization just to say that you know really quickly getting the perspective of the account executive the bid manager maybe a solutions engineer and a couple of other stakeholders you will you will get that rosham on effect of you know what the you know what the AESaw was not exactly what the bid manager saw was not exactly what the solutions engineer saw and you get a much greater idea of systematically what really is working inside of your business even with those internal interviews so what I'm\", metadata={'source': 'transcription.txt'}),\n",
       " Document(page_content=\"so what I'm hearing for folks here who who are dying to get started with will loss they they know the value and they just don't know where to start it sounds like first of all it's maybe adjust your expectations like this is this is a marathon on sprint and also and you know you're gonna you know maybe some of you have have executive leaders who who love win loss but let's assume that's not the case you're gonna have to build a business case for this and it sounds like one of the best things to do there is just start where you can right maybe with the with the Salesforce data in the in the internal interviews with your sales reps and the account managers didn't manage just whoever it may be don't expect to just to all of a sudden get the get a ton of insight from your buyers themselves do what you can internally use that to start building a business case did I is that a fair assessment absolutely yeah and I would add to that it will make some of the stakeholders that are sometimes\", metadata={'source': 'transcription.txt'}),\n",
       " Document(page_content=\"that are sometimes skeptical of of win loss or maybe a little wary of it and I'm thinking here particularly about sellers that feel like hey is this is this an exercise to kind of like rat me out for them to recognize actually this is a systematic analysis of the organization's effectiveness of selling and winning in the market definitely sure it looks like we've had some questions come out any questions on win loss that we can throw to August and Mimi here the first question actually there's two I'm gonna kind of combine from rena and kevin any best practices that you can share for these programs on how to get customers to participate I'd actually get them to the interviews especially maybe with um shurnt customers like how are you going to get their thoughts on why they potentially didn't renew so I'll pass that to august first oh okay that's that's a that's a really good and a very difficult question um you know we've been all over the place and just like just like Mimi's\", metadata={'source': 'transcription.txt'}),\n",
       " Document(page_content=\"just like Mimi's experience particularly on the enterprise side getting customers to respond has been more difficult I will say at least in my experience small and medium business customers are much more likely to respond to an inquiry much more likely to be responsive to if you or your partner that that may you know if you've got a partner that that's doing the interviews is offering in any sort of incentive with that and sometimes that comes into the the cost of a you know of that holy grail win loss program as well as you know some sort of charitable donation or maybe a gift card for for participating in the win loss interview um more often than not are outreach absent compen you know some some form of compensation is really based on the the premise that we're trying to be better and you know fire a churrent customer we understand we did not serve you well um you know in this in that instance and you know you're not perceived this as as as having served you well we would like to\", metadata={'source': 'transcription.txt'}),\n",
       " Document(page_content=\"we would like to understand more about that um and in my experience and Mimi had a love in your perspective on this you know customers particularly if they're maybe a little bit not thrilled with you would appreciate the opportunity in a safe place in a psychologically safe space to tell you why they're not happy with you now absolutely and that's why having a third party conduct the interviews also tends to increase the accept rate because they know that they can be truly honest and that that third party is not really it's not a seller they're not trying they're not trying to pitch them right anything in this fault conversation it is truly to learn but I understand like then that there's a there's a cost associated with hiring an outside party but I agree 100 percent with with August we we use the the same kind of phrases of like we didn't sort of you the way that we wanted to on reach out and learn what we could have done better to help us improve and incentive is important it\", metadata={'source': 'transcription.txt'}),\n",
       " Document(page_content=\"is important it doesn't have to be a $300 500 incentive a small amount I think is very much something you can swing and it does make a difference in terms of again increasing the acceptance rate having an executive sponsor also is important to eat if it only in name both at HubSpot and at Akamai even though the Akamai experience wasn't quite as successful we had the emails that you know that we sent out to the turned customers all came from our EVPs or the CEO where it was a message directly from them you know saying that they were we were trying to improve and you know we were looking for feedback nothing else versus someone like myself or anyone else you know emailing the the weight of it is not quite as high it is what it is all those components help improve right your acceptance rate awesome thank you both we have another question that came in from Neil who's also doing win-loss analysis based on CRM data as well as customer interviews and would love to know more about how to\", metadata={'source': 'transcription.txt'}),\n",
       " Document(page_content=\"more about how to maximize the return on investment for this kind of work so I'll pass that to me because I know you had mentioned the CRM data but yeah how to just get I guess the most out of this type of work I think it's the most effective when it's tied to a business objective right if there's a major launch of something and you need that information that's where you should be focusing on instead of like let's just anyone anyone on anything let's ask them the questions so even with that approach you can get some answers but the more focus it is and the more it's tied to what executives are really thinking about the more successful it will be for sure ROI is kind of tied to whether or not you can influence or impact the business so one of the more particularly effective kind of I would say quasi win-loss research streams that we had at HubSpot was on differentiation and our what we said we were good at versus our competitors and so it was actually a mixed research model where we\", metadata={'source': 'transcription.txt'}),\n",
       " Document(page_content=\"model where we had customers of ours reinforced whether or not our differentiation was all that different and we also interviewed users of our competition and asking the same questions and the data that came back which we presented to leadership was our competitors are using exact same differentiation as we do and their customers feel exactly the same way about them that ours you about us that's a problem right that's that that if everyone feels the same way it's not differentiation so I know that that was a particularly effective research stream because it's top of mind for our leaders as we were trying to evolve the business so where you know there's a hot topic tie your win-loss higher research to those pieces awesome anything you would add to that August yeah I love that idea of reinforcing and revalidating or correcting your assumption about differentiation things as being a you know a great area of focusing your win-loss activity you know and picking up you know at me at least\", metadata={'source': 'transcription.txt'}),\n",
       " Document(page_content=\"know at me at least point about you know aligning with other things that you're you know seeing in the business to the extent that you can align your win-loss with any strategic objectives that the business may have you know if there are strategic priorities or initiatives that are clearly articulated by your leader 15 the opportunity to shed insight into those through win-loss is is a great way to demonstrate the value and get that return on the investment I have one more question in this section before we move on Connor this is sort of related to balance and quantitative and qualitative information that can come through so August I'll pass this over to you first when you're doing you know win-loss how do you sort of focus on sort of only quantitative or how do you like yes strike that balance and looking at the depth of qualitative as well right well I've always been a fan of the hybrid research model that that Mimi was talking about a moment ago that that does mix qualitative and\", metadata={'source': 'transcription.txt'}),\n",
       " Document(page_content=\"mix qualitative and quantitative and that you know can always be a little bit fraught sometimes you've got stakeholders that really prefer one versus the other you know very finance minded people really like the quantitative people from you know marketing and other functions tend to like much more the qualitative but I find by mixing the two you can really scratch everyone's itch in terms of the insights that you're bringing back and you know and some insights are you know very qualitative in in nature for example and and you know particularly in a business that you know a B2B setting you really don't have enough at bats sometimes to to really go deep and quantitative you know if you were if you were fully quantitative you might look at a situation and say oh are win rate against this competitor is really really improving well you might just be more aware of where you're coming up against this competitor in the market and and and and um marking that capturing that in the in the CRM\", metadata={'source': 'transcription.txt'}),\n",
       " Document(page_content=\"in the in the CRM data more so if you go purely quantitative you might take yourself down a path where the law of small numbers is working against you and in qualitative insights are a great way to to make sure you don't over index on that I think we're good for questions for now Connor cool thank you Sheila we will move on to our third insight from the state of CI this is a lot so I'll explain here so in our survey of CI leaders we we give him this list of whatever it is 10 or 11 sources of competitive intelligence places where you get or people from whom you get competitive intelligence and we ask everyone for each of these can you please tell us if you think this source is extremely valuable valuable somewhat valuable or not valuable at all and then as you can see we've we've ranked them here so employees and coworkers was the was the source of CI that was called extremely valuable by the highest share of of CI leaders so 63% of CI leaders told us that the intel they get from their\", metadata={'source': 'transcription.txt'}),\n",
       " Document(page_content=\"they get from their co-workers is extremely valuable so I think it's safe to assume that almost everyone on this call wants to get more intel from their from their co-workers especially those in the field and in sales and customer success so we'll start with you here Mimi we would let it know if you have any tips for the folks in the audience about sourcing this this intelligence from the field from the front line yeah and my tip ties into kind of the first talking point that we had which is kind of you know roadshow be be in front of the sellers and the product was and you know all the stakeholders that you that you have because the more that you have our top of mind and more likely they will be to think oh Mimi's team probably would like to see this right this is this is the hard work of of influence it's not just a CI job it's you know almost everyone's job right if you have the work of other teams and get information from other teams what's the best way to engage and create those\", metadata={'source': 'transcription.txt'}),\n",
       " Document(page_content=\"and create those relationships so I think one of the first pieces when we first discuss this was I think it would be difficult to expect all of the insights and all the information's without putting in that hard work right of showing your stakeholders that your team is responsible for enabling materials for competitive intelligence for battle cards or what have you right I think when you show up with the assets that your stakeholders need then again that creates that goodwill that relationship where it comes back to you I think expecting that from the beginning it's just going to be harder much much harder I agree with the data I agree with probably everyone in this in a space getting information from the field is be most helpful ensuring up what you know about your competitors but that is a long-term relationship play I think more than anything else how about you August yeah I absolutely agree with with Mimi's comments that it is a long-term relationship play and you do have to\", metadata={'source': 'transcription.txt'}),\n",
       " Document(page_content=\"and you do have to demonstrate that value there can be a little bit of that chicken and egg if the competitive intelligence function is new that you know how do you demonstrate the value of your insights if if one of the most if not the most important source of your insights is not providing you those insights yet yeah so so that's you know maybe something where you lean into the other sources where you can demonstrate some of that value initially and then you know to to Mimi's point about being in front of mind with these with these different stakeholders and showing up with the assets they say like oh this is what this goes into you know people will share insight and they'll take that investment in their own time to do that if they can see that that's going to deliver value back for them or for the business as well another thing too is you know we talked earlier about over-indexing on communication you know one of the things I think here is over-indexing on phrase a little bit as\", metadata={'source': 'transcription.txt'}),\n",
       " Document(page_content=\"a little bit as well so you know particularly the you know the teams that are bringing really valuable or important insights to the extent that they're comfortable in your corporate culture is comfortable having that highlighted you know find a venue where where you can do that so another thing we do I mentioned that monthly call that my team and I host when a particular valuable insight comes in from the business we have a little award ceremony for for the person who shared that insight and and that kind of illustrates like hey we will we will recognize what good looks like here and you know if you bring us something really good we will you know we will share those kudos with you so here a couple things first of all so feel intelligence it sounds like like win loss it is a marathon not a sprint right you have to like I said do what you can at first don't expect reset your expectations don't expect to you know launch your CI program then get made just get overwhelmed by all this\", metadata={'source': 'transcription.txt'}),\n",
       " Document(page_content=\"by all this amazing intelligence from the field so make that make that change in your expectations and like with win loss where you're just do what you can at first build the case build that trust and the other thing I'm hearing is and you know maybe you call this out this this insight ties in nicely with with the first one that we discussed if there's one action I'm so far for everyone you know on this call it's you know look at your sales teams calendars see where they have those standing meetings maybe there's a daily stand-up or weekly whatever and if you don't already go go and you know advocate for yourself to get on the agenda periodically because that will you know kind of it's a two bird situation right that will help drive that drive that adoption the material is your creating also you know you'll start creating that that that feedback of intel back to yourself right and three birds I don't want to too crazy here but also as you're building that trust that'll help you with\", metadata={'source': 'transcription.txt'}),\n",
       " Document(page_content=\"help you with those internal win loss interviews right so get in front of your sales team you know advocate for yourself because no one else is going to at least at first right Sheila do we have any questions on field intel for you on we have one question that I think is helpful from Chris just the best way to get this information from folks at your organization or from AES and SEs specifically like Slack channel like how do you both get this information for your programs so we you know again you know communicated out the different ways we can we can receive this information we highlight it the add new intel button on crayon and we we bring that up every time we talk about that particular tool the reality is sellers sellers in particular but any stakeholder they'll go to their tool of least resistance so they'll go to email or in our case teams you know if you're on Slack instead they'll go to Slack you know they'll do what they feel most comfortable with and and quite honestly from\", metadata={'source': 'transcription.txt'}),\n",
       " Document(page_content=\"quite honestly from our perspective you've got to be open to receiving field intel from any channels yep absolutely it doesn't matter if it's you know a direct email to me or the distra list or we I do every now and then I go into crayon I do see something that it got uploaded so you just kind of have to reinforce all of the avenues that your your field can share information if you don't just let them know that you're monitoring it that that's a gift right so definitely accept it regardless of where it comes from or where it's posted it sounds like the the slightly coy answer to Chris's question is however your sales reps and and your AES and AES AES however they want to submit field intel that's how that's how you're going to accept field intel because you know whether you want folks to use the the content you create for them or get intel from them it's got to be easy right it has to be as as painless as possible and it's a to echo one of August's points which is giving kudos right\", metadata={'source': 'transcription.txt'}),\n",
       " Document(page_content=\"giving kudos right of one of the most powerful things that we we've done and it's again it hasn't created a tsunami right of insights or field intelligence is when we do get a pricing sheet right or an RFV quote or something like that we share it with the places that you know people care about competitive and we say so and so purchase it and then folks kind of oh well in my inbox I got probably four or five of these right I can forward them along like reinforcing that behavior in multiple different ways that that's how you kind of help people understand the art of the possible of CI right because they don't know what actually matters and it's going to be really hard for the for folks to gauge whether or not it it's something we're sending right at the end of the day nice thanks um I have another question about um how is third party independent intelligence viewed not bespoke um I don't know if that's enough to go on I've assumed it's some stuff like Gartner what four five one um\", metadata={'source': 'transcription.txt'}),\n",
       " Document(page_content=\"four five one um forced for research very positively viewed at least in my organization it's um third party it's reputable obviously we use a lot of um that kind of research to reinforce our positioning because not us saying that we're great it's a you know in an independent um kind of uh research group verifying that um so that's actually one of the the mandates of for for my team from from my leader which is to bring more of that market perspective in because we are insular we talk about ourselves we care about ourselves we think it only about ourselves right um and we might miss some of the larger trends and so that is a component of what we bring into the the the the the business but it's not necessarily something we share a lot with reps because they just want to sell it's um that's actually more on go-to-market product right those are the teams that our leadership um they care about that type of information I think sellers care about that information when it's a proof point that\", metadata={'source': 'transcription.txt'}),\n",
       " Document(page_content=\"a proof point that validates the positioning here point maybe um and so you know if we're talking about like a Gartner Magic Quadrant for example just give me a quadrant I definitely don't want the report um but I want you know I want the quadrant where we're in the upper right um and you know and and you know to me me's point to the um you know whether it's the product organization or product marketing or marketing or you know some other part of the business will be much more interested in going into the depths of that report thank you both um I think that's good for now Connor we can move to the next one awesome thank you Shia so this is uh this is a fun one this is one of my favorites um from from the new state of CI report so like I said we surveyed both CI leaders and stakeholders so one of the questions um that we asked the stakeholders who took our survey is do you get ad hoc support uh from from your CI team or in other words do you do you get help with one-off requests and\", metadata={'source': 'transcription.txt'}),\n",
       " Document(page_content=\"requests and folks have to yes or no and then a subsequent question was do you trust the insights that you get from your CI point person or team um and every single stakeholder who said they do get ad hoc support said yes I trust the insights I get from my CI team and as you can see the stakeholders who do not get that ad hoc support well just over half of them said that they trust the insights they get from their CI team so this seems to suggest that one of the keys to earning the trust of your stakeholders is finding ways to support them on that ad hoc basis so I'm curious in August we'll start with you if you don't mind um what are some tips you have for folks when it comes to uh you know um supporting stakeholders on an ad hoc basis without just you know uh responding to every single thing that everyone wants right yeah because you you've got to fit this in when you think about the the typical competitive intelligence portfolio there are long-term activities you know project you\", metadata={'source': 'transcription.txt'}),\n",
       " Document(page_content=\"know project you know really significant projects there's a lot of recurring work that you've got to have capacity for if you're doing win loss that's that's burning up a lot of cycles on a monthly or a quarterly basis that's not available for these sorts of projects the two main things i'm you know pieces of advice i would offer for for a CI team that's trying to figure out how we can best support ad hoc um requests the first thing i would say is recognize the requests as a general statement of a need so one of the things that that i've observed is very often ad hoc requests come in the form of a specific research path that the stakeholder would like me to like me or the team to undertake and how i address that is first recognize that almost like i'm a consultant and i say okay it sounds like you've got a really interesting need there there's a there's an important decision that you're trying to make could you tell me a little bit about that and apply some of those competitive\", metadata={'source': 'transcription.txt'}),\n",
       " Document(page_content=\"those competitive intelligence solicitation skills back on our stakeholders to understand what it is what they really need because the the original statement is is a once that hides the need and it's your job to kind of find the need um so that's that's the first thing and the second thing i would say is um to always remember that you have superpowers um that the ad hoc request that once you've identified the need is something you will be able to address in you know two to four hours and maybe you know time boxing um how much time based on how much time you have available to execute on this you will be able to deliver with your skills and your expertise and your knowledge so much more than the stakeholder was ever going to be able to get on their own and even if it doesn't completely answer the mail you'll you'll elicit some really great feedback on what the larger need is as well and sometimes i think CI professionals because we do have that analytical mindset kind of feel like you\", metadata={'source': 'transcription.txt'}),\n",
       " Document(page_content=\"of feel like you know every every request that you know i i have to do exactly what they asked me to do and if it's like a 20 week engagement you know that that occupies all my time well i guess that's what i guess that's my life now basically and to say well you could probably do a lot for them if you took time to understand the need and time box a certain amount of time and you know recognize your own superpower within that small amount of time much more than you might think you can do thank you what do you think Mimi? August so elegantly wrapped up some of them what we experienced in a much kinder way which is sometimes you get these requests from restaurants like what are you asking you like you want us to boil the ocean right so getting really specific and engaging and and clarifying well why right usually most of time there's a very specific thing they're looking for they just choose not to tell us right until a couple of cycles but oftentimes it is a very reasonable request if\", metadata={'source': 'transcription.txt'}),\n",
       " Document(page_content=\"request if you if folks on the call are trying to understand or figure out how to balance all of the requests that come to the organization the way that we've done it is through kind of tearing of requests so you can imagine we have a lot of reps we have a lot of products we have a lot of competitors and we just can't address them all so we push folks to a form where we the questions we typically ask over and over again we put that in there to get them to give us that detail in advance and we also tie it to deal value right the higher the deal value the more likely we will make time to address it because we know it's going to be much more impactful to the business we also make it really clear that the way that our team is organized is through a top two competitors then two or two three and four and so on again it's based on revenue impact and so if a request is for a competitor that's lower down that's why we would potentially you know reject right a request and we give the validation\", metadata={'source': 'transcription.txt'}),\n",
       " Document(page_content=\"give the validation why but that's the ad hoc sales side which is always part of the CI programs kind of remit you have to help sales but this is the way that we organize it there's another component of ad hoc request that we discuss which is the strategic stuff that comes from leadership from product teams and those are the ones we want to grab on to because at least for Akamai we started with winning over the sales team making sure that they were satisfied so that we could take that good will and start making those inroads right with the product teams and the leadership teams so the more as you see from this data you actually are getting front of those teams and show right what your teams capable of the more buy-in that you get so we do kind of grab on to those strategic requests sometimes are really hairy they're really difficult so we try to set expectations where those are the ones we look forward to because it helps kind of elevate the the group in the business I think\", metadata={'source': 'transcription.txt'}),\n",
       " Document(page_content=\"business I think absolutely concur I'm sorry Connor I know I don't want to say absolutely concur with you know with Mimi's perspective on particularly those more strategic ad hoc requests and I might have been polite and diplomatic but the language in my mind around those requests is very I heard you I yeah I feel heard and I feel seen thank you I think I think you're point about the tearing mean you're having a system for tearing is super impressive and that should definitely be everyone on the calls north star before you get there I think this this insight really drives home the importance of goals right of having just some kind of purpose for your CI program because in the absence of a purpose or a goal or an objective it's so easy I think to just find yourself constantly fighting fires and responding to ad hoc requests whereas just a nice simple filter is if you have a goal at least that can help you monitor what's coming in and say okay if I execute on this will I be working\", metadata={'source': 'transcription.txt'}),\n",
       " Document(page_content=\"will I be working towards my goal or not right just said that at the most baseline level of of having a filter for those things right the other thing I'm hearing in Sheila just for the sake of time I am gonna I'm gonna ask me hold off on audience questions until we get through the the next slide but I don't think I'm hearing is that earlier we talk about how how sometimes CI folks need to act like marketers right in in over communicating and getting out the value of CI what I heard both of you say is that CI folks also need to think like sellers sometimes doing that discovery especially for for private marketers on the phone you if you were listening to a call recording with one of your sellers and you could tell that the you know the buyer was saying they want something but but not getting to the need you would want your seller to do that discovery right and really uncover the need underlying the quest the request I think CI folks need to do the same thing right do that discovery\", metadata={'source': 'transcription.txt'}),\n",
       " Document(page_content=\"do that discovery with your with your stakeholders yeah kind of I know we're you know just real quick I'm thrilled that you use the word discovery because you know we we actually recently translated our project charter to a discovery document and what what we found is and we reoriented the throng sales language that stakeholders that were coming with ad hoc requests were much more interested in engaging with us because then they understood it in the context of their day to day job or in terms of the organizational process as well that's awesome yeah gotta be gotta be curious last we will have a few minutes I think for for any any additional audience questions the last insight and this this ties in with with the idea of goals and tearing and filtering ad hoc requests one of the questions we've been asking since the very first year of the state of sea ice since 2018 we've been asking folks if they have key performance indicators defined for their CI program and in 2018 16% of CI leaders\", metadata={'source': 'transcription.txt'}),\n",
       " Document(page_content=\"16% of CI leaders said yes and this year 36% of CI leaders said yes that is a 125% increase you know since 2018 so folks are getting better and better at measuring the impact of competitive intelligence so maybe we'll we'll start with you if that's okay I'm curious for folks on the phone who do not have KPIs for their CI program any advice you have for those folks to to get started yeah I'm start simple and our our KPIs frankly are very very simple too at least we're about two years into the journey here at Alka Mai so a couple of KPIs some are hard numbers and others are a little bit more aspirational the hard numbers is number of battle cards right we started with technically zero there were existing battle cards that predated my my arrival that we converted but we wanted to have a good baseline again bait using the tears we wanted the tier one competitors covered and over time we will build more right to address all of the others so that's one KPI that you know is part of my team's\", metadata={'source': 'transcription.txt'}),\n",
       " Document(page_content=\"part of my team's objectives that goes all the way up to the CMO another is winning more more competitive deals I think that's pretty self explanatory it can be difficult depending on your systems to actually measure win rates but I think we're using more of a qualitative like are we doing a good job are we getting good feedback versus pure measurements I think once we get to a point where we can actually get those numbers that would be great we're just not there yet and then it's about expanding the influence of the team which is you know not numbers based but important as we try to move out of pure sales enablements to some more of that strategic work that honestly is the most interesting and I think what we all get a kick out of doing thank you how about you August any advice for folks who are hoping to establish some KPIs yeah maybe has some great advice on keeping it simple and those are really fantastic examples examples an additional dimension I'll mention that that we've tried\", metadata={'source': 'transcription.txt'}),\n",
       " Document(page_content=\"that we've tried to follow is to align our KPIs with basically input to the KPIs against which our stakeholders are going to be measured so so things like win rates which are difficult to get win rates against particular competitors we know for a fact that our reps are almost 50% more likely to win an opportunity when they name a competitor or an incumbent so getting them to come through that activity and and demonstrate that you know that knowledge of the opportunity that they're trying to sell against is also a factor because it reflects how effective have we been at conveying that as an important part of the pursuit opportunity and then also is that behavior that that we you know that we know translate into more wins is is that behavior being adopted in the business Gotcha so I think for the for the folks in the call who are starting from zero I think it's really important to to take away from this that there's to start defining KPIs for UCI program you don't need any budget you\", metadata={'source': 'transcription.txt'}),\n",
       " Document(page_content=\"need any budget you don't need a tool of course these things are good but um how many what are you producing how many bad cards you're producing and you know much competitors are you getting good feedback from your sales team these are perfectly acceptable ways to measure success and the theme throughout this this this conversation right is it's all a marathon not a sprint so you have to um think about it like a process incremental process where you're you're starting with what you can and using that to build to bigger and better things um so that thank you both so much for walking through these insights um with us again we will we will shout out in just a few minutes that the state of CI reports you all know where to get it uh because that's where all these insights came from so if you if you enjoyed these five insights there's a lot more uh in the report we have uh eight minutes left so Sheila on the topic of you know building trust mistake hold is getting adoption getting more\", metadata={'source': 'transcription.txt'}),\n",
       " Document(page_content=\"getting more field intel KPIs anything we've discussed so far are there any lingering questions from the audience yeah there's a few good ones we can talk through we had one question that sort of um ties to these uh he sets together one round ad hoc support and measurement so i don't know if either of you have a best practice um metric or how you measure just the amount of ad hoc support that you are providing to the organization um apart from simply just the number of requests um august you have a a way that you're doing that today we're definitely on the journey there um so you know the congress point about about um iteration and improvement um we're we're on this journey of really measuring our ad hoc activity against our our recurring or ongoing activities as well um so we are in part measuring that by the number of pursuits let's say you know roughly the the person hours that are associated with those projects the the positive results as a consequence of those projects and\", metadata={'source': 'transcription.txt'}),\n",
       " Document(page_content=\"those projects and alignment with strategic objectives as well you know so taking it back to to mean these really excellent point about prioritization one of the hurdles or one of the you know linds is through which we look at ad hoc project requests is alignment with strategic objectives as well and so we are evaluating ourselves based on how well we're supporting each of those and i would add you know i i am for my team love this but i kind of want to track all of the requests that we get our way even the ones that we decline right because that proves again the value of the of the team and um i'm sure everyone feels the pain at a loose yeah teams are very very small and so um i can actually then you know quarterly or annual summary um show my leadership the projects or the requests that we decline due to lack of staff right it usually isn't enough to get things over the line but it's just kind of reinforces a the value that your team provides because you're getting all these\", metadata={'source': 'transcription.txt'}),\n",
       " Document(page_content=\"getting all these requests and until you don't have the bandwidth right to support everyone in the business um again we know that that's not the end goal but it's just another proof point so um that's one of the beauty beauties of the form is we have every single request right um and when we do have the MRR value tied to it we can extrapolate out the value of our assistance and so what we can provide to the business it's a very simple i think way to at least um keep your team floating right if you're trying to figure out ways to prove value to your leadership that's a great idea i'm gonna steal that also then i'm gonna conclude with one sort of big question from Casey Ward thank you Casey um i think this is a great one to kind of take us home because it summarizes a few of the things we've been talking about but all the great work that you're doing you know from win-loss insights and competitive updates um what's your cadence for your program in terms of sharing all this great work\", metadata={'source': 'transcription.txt'}),\n",
       " Document(page_content=\"all this great work with your executive team and does that differ from the cadence where you're sharing all you know these results with your product or revenue leaders specifically um me and you'll pass that to you uh it is a very different cadence and it's very very specific so for our executive team i do accordingly summary and it's only stuff that i know that they care about it's not about how great my program is or how happy um we make people or metrics because that's not what what matters um it's uh uh an update on our competitive posture for our two major business lines so it's two updates a quarter um and so that's been getting good traction and it was not something that i just proactively did it was over the course of the year this my CML approach me and said okay it's time for you to start doing these executive briefings so again it don't start out with that intention um you have you do have to earn it it's the truth right um for our product leaders um we're looped in on kind\", metadata={'source': 'transcription.txt'}),\n",
       " Document(page_content=\"looped in on kind of the regular cadences the the the team meetings the regular like projects that we're a part of um we have take out campaigns for example where we go to market motions so our team is involved in that and so we just kind of plug in naturally um and then you know as we discuss with with august like the sales side is the kind of a constant update of like here's a new piece of a battle card here's a new insights here's whatever it is that is just more real time because we want to reinforce with those sellers that um someone a group is actively looking after that content and making sure that it's up to date and it's very similar situation on our side as well um so you know quarterly readouts for our board and our executive team quarterly readouts for the whole sales organization and then supplemented of course with like I said our monthly readout to the whole you know to the to the whole business and it's and that's geared more towards the you know the you know the the\", metadata={'source': 'transcription.txt'}),\n",
       " Document(page_content=\"you know the the rank and file level is mostly the executive level of insights but then engagement in those different sales product team meetings is appropriate as well thank you Sheila those that you're and shout out to kc kc contributed to this year's state of state of course so thank you for doing that and for being here kc and asking an awesome question to bring us home before um I spotlight august and mimi's uh linkedins in the report i'll be a attempt to just to to give you all some some action on this conversation so when you leave this call today make sure first of all most that you know why you're doing competitive intelligence which sounds a little silly but make sure you're crystal clear on the on the purpose of why you're doing this work um because that's going to help you uh establish those initial kbis and start filtering those ad hoc requests and then from there make sure you're you're you're on you're getting face time regularly with your stakeholders right because\", metadata={'source': 'transcription.txt'}),\n",
       " Document(page_content=\"right because that's going to help you drive adoption start um increasingly amount of field intelligence that you get and you'll start building the trust that you need to start doing someone loss analysis as well right so make sure you know why you're doing this in the first place and and start spending an uncomfortable amount of time with your stakeholders um so if you go to crown.co slash state of competitive intelligence or go to our website and it's under the resources tab you'll find uh the state of cia report which has all the insights we discussed today and many more and also a quake a quote from from kc thank you again kc uh and thank you so much again to mimi and august both of you this was um this was so much fun and we really appreciate you both taking the time out of your data do this uh if you're wanting to act with mimi in august you can find them on linkedin uh but that is all we have for today so thank you everyone for being here and we'll uh we'll see you next time\", metadata={'source': 'transcription.txt'}),\n",
       " Document(page_content='see you next time thanks everyone thanks so much everyone', metadata={'source': 'transcription.txt'})]"
      ]
     },
     "execution_count": 17,
     "metadata": {},
     "output_type": "execute_result"
    }
   ],
   "source": [
    "documents"
   ]
  },
  {
   "cell_type": "markdown",
   "metadata": {},
   "source": [
    "## Finding the relevant chunks\n",
    "\n",
    "Let's generate embeddings for an arbitrary query:"
   ]
  },
  {
   "cell_type": "code",
   "execution_count": 18,
   "metadata": {},
   "outputs": [
    {
     "name": "stdout",
     "output_type": "stream",
     "text": [
      "Embedding length: 1536\n",
      "[-0.02676220181819881, -0.0055145550288614635, 0.01305554314016356, -0.0170751880981857, -0.00973352210576431, 0.024915158223655663, -0.025260649089236004, 0.005285335593320399, -0.018882367362084963, -0.05511897313686283]\n"
     ]
    }
   ],
   "source": [
    "from langchain_openai.embeddings import OpenAIEmbeddings\n",
    "\n",
    "embeddings = OpenAIEmbeddings()\n",
    "embedded_query = embeddings.embed_query(\"What is competitive intelligence?\")\n",
    "\n",
    "print(f\"Embedding length: {len(embedded_query)}\")\n",
    "print(embedded_query[:10])"
   ]
  },
  {
   "cell_type": "markdown",
   "metadata": {},
   "source": [
    "To illustrate how embeddings work, let's first generate the embeddings for two different sentences:"
   ]
  },
  {
   "cell_type": "code",
   "execution_count": 19,
   "metadata": {},
   "outputs": [],
   "source": [
    "sentence1 = embeddings.embed_query(\"Its very hard to grow a start up\")\n",
    "sentence2 = embeddings.embed_query(\"Sales enablement is one of the primary use cases of competitive enablement\")"
   ]
  },
  {
   "cell_type": "markdown",
   "metadata": {},
   "source": [
    "We can now compute the similarity between the query and each of the two sentences. The closer the embeddings are, the more similar the sentences will be.\n",
    "\n",
    "We can use [Cosine Similarity](https://en.wikipedia.org/wiki/Cosine_similarity) to calculate the similarity between the query and each of the sentences:"
   ]
  },
  {
   "cell_type": "code",
   "execution_count": 26,
   "metadata": {},
   "outputs": [
    {
     "data": {
      "text/plain": [
       "(0.741941282185766, 0.83047198279227)"
      ]
     },
     "execution_count": 26,
     "metadata": {},
     "output_type": "execute_result"
    }
   ],
   "source": [
    "from sklearn.metrics.pairwise import cosine_similarity\n",
    "\n",
    "query_sentence1_similarity = cosine_similarity([embedded_query], [sentence1])[0][0]\n",
    "query_sentence2_similarity = cosine_similarity([embedded_query], [sentence2])[0][0]\n",
    "\n",
    "query_sentence1_similarity, query_sentence2_similarity"
   ]
  },
  {
   "cell_type": "markdown",
   "metadata": {},
   "source": [
    "## Setting up a Vector Store\n",
    "\n",
    "We need an efficient way to store document chunks, their embeddings, and perform similarity searches at scale. To do this, we'll use a **vector store**.\n",
    "\n",
    "A vector store is a database of embeddings that specializes in fast similarity searches. \n",
    "\n",
    "<img src='images/system4.png' width=\"1200\">\n",
    "\n",
    "To understand how a vector store works, let's create one in memory and add a few embeddings to it:"
   ]
  },
  {
   "cell_type": "markdown",
   "metadata": {},
   "source": [
    "Our prompt expects two parameters, \"context\" and \"question.\" We can use the retriever to find the chunks we'll use as the context to answer the question.\n",
    "\n",
    "We can create a map with the two inputs by using the [`RunnableParallel`](https://python.langchain.com/docs/expression_language/how_to/map) and [`RunnablePassthrough`](https://python.langchain.com/docs/expression_language/how_to/passthrough) classes. This will allow us to pass the context and question to the prompt as a map with the keys \"context\" and \"question.\""
   ]
  },
  {
   "cell_type": "markdown",
   "metadata": {},
   "source": [
    "## Loading transcription into the vector store\n",
    "\n",
    "We initialized the vector store with a few random strings. Let's create a new vector store using the chunks from the video transcription."
   ]
  },
  {
   "cell_type": "code",
   "execution_count": 35,
   "metadata": {
    "scrolled": true
   },
   "outputs": [
    {
     "data": {
      "text/plain": [
       "62"
      ]
     },
     "execution_count": 35,
     "metadata": {},
     "output_type": "execute_result"
    }
   ],
   "source": [
    "len(documents)"
   ]
  },
  {
   "cell_type": "code",
   "execution_count": 48,
   "metadata": {},
   "outputs": [],
   "source": [
    "from langchain_community.vectorstores import DocArrayInMemorySearch\n",
    "from langchain_core.runnables import RunnableParallel, RunnablePassthrough"
   ]
  },
  {
   "cell_type": "markdown",
   "metadata": {},
   "source": [
    "Let's set up a new chain using the correct vector store. This time we are using a different equivalent syntax to specify the [`RunnableParallel`](https://python.langchain.com/docs/expression_language/how_to/map) portion of the chain:"
   ]
  },
  {
   "cell_type": "markdown",
   "metadata": {},
   "source": [
    "## Setting up Pinecone\n",
    "\n",
    "So far we've used an in-memory vector store. In practice, we need a vector store that can handle large amounts of data and perform similarity searches at scale. For this example, we'll use [Pinecone](https://www.pinecone.io/).\n",
    "\n",
    "The first step is to create a Pinecone account, set up an index, get an API key, and set it as an environment variable `PINECONE_API_KEY`.\n",
    "\n",
    "Then, we can load the transcription documents into Pinecone:"
   ]
  },
  {
   "cell_type": "code",
   "execution_count": 46,
   "metadata": {},
   "outputs": [],
   "source": [
    "from langchain_pinecone import PineconeVectorStore\n",
    "\n",
    "index_name = \"competitive-intelligence-index\"\n",
    "\n",
    "pinecone = PineconeVectorStore.from_documents(\n",
    "    documents, embeddings, index_name=index_name\n",
    ")"
   ]
  },
  {
   "cell_type": "markdown",
   "metadata": {},
   "source": [
    "Let's now run a similarity search on pinecone to make sure everything works:"
   ]
  },
  {
   "cell_type": "code",
   "execution_count": 47,
   "metadata": {},
   "outputs": [
    {
     "data": {
      "text/plain": [
       "[Document(page_content=\"16% of CI leaders said yes and this year 36% of CI leaders said yes that is a 125% increase you know since 2018 so folks are getting better and better at measuring the impact of competitive intelligence so maybe we'll we'll start with you if that's okay I'm curious for folks on the phone who do not have KPIs for their CI program any advice you have for those folks to to get started yeah I'm start simple and our our KPIs frankly are very very simple too at least we're about two years into the journey here at Alka Mai so a couple of KPIs some are hard numbers and others are a little bit more aspirational the hard numbers is number of battle cards right we started with technically zero there were existing battle cards that predated my my arrival that we converted but we wanted to have a good baseline again bait using the tears we wanted the tier one competitors covered and over time we will build more right to address all of the others so that's one KPI that you know is part of my team's\", metadata={'source': 'transcription.txt'}),\n",
       " Document(page_content=\"in in 2018. So if you're familiar with, you know, HubSpot state of marketing or or Salesforce and state of sales that crown has the state of competitive intelligence, of course. So we published a new edition every year since 2018. The latest edition of the 2023 edition is number six. And it's based on a survey of more than more than 900 competitive intelligence leaders like me and August, as well as stakeholders, folks like sales reps and CSMs and other folks who use competitive intelligence throughout their day to day. And since the very beginning, the goal of state of CI has has never changed. The goal is to be the source of truth for anyone out there who wants to know why and how companies invest in competitive intelligence programs. So that's the state of CI. At the end, we will we'll give a shout out to the report itself. So you all know where to to get it. So you can go download if you haven't already. And yeah, like I said, the most of our time today will be spent walking\", metadata={'source': 'transcription.txt'}),\n",
       " Document(page_content=\"who are on this call, they made it really clear to the folks that they work with, right, that they're available and people can find them. I think it's the value piece is longer term and a little bit more difficult. So definitely not surprised by it. Something that constantly needs to be refreshed as well with new stakeholders, new understandings of what competitive intelligence is able to do into scenarios that they're facing. And sometimes a stakeholder may not even realize there's value that competitive intelligence can deliver in a particular situation. And so sometimes they don't ask. Gotcha. Well, thank you both for the, I know that that wasn't prepared. So thank you for the quick reactions to that. So like I said, most of our time today will be spent discussing the top five insights from the state of C.I. So the question we ask here, all the C.I leaders who took the state of C.I. survey, we asked them, you know, what, what percentage of their opportunities are competitive. And\", metadata={'source': 'transcription.txt'})]"
      ]
     },
     "execution_count": 47,
     "metadata": {},
     "output_type": "execute_result"
    }
   ],
   "source": [
    "pinecone.similarity_search(\"What is the best way for a company to get started with competitive intelligence?\")[:3]"
   ]
  },
  {
   "cell_type": "markdown",
   "metadata": {},
   "source": [
    "Let's setup the new chain using Pinecone as the vector store:"
   ]
  },
  {
   "cell_type": "code",
   "execution_count": 49,
   "metadata": {},
   "outputs": [
    {
     "data": {
      "text/plain": [
       "'Start simple with a few key performance indicators (KPIs) that are easy to track and measure, such as the number of battle cards. Build from there over time to cover more competitors and focus on building trust with stakeholders.'"
      ]
     },
     "execution_count": 49,
     "metadata": {},
     "output_type": "execute_result"
    }
   ],
   "source": [
    "chain = (\n",
    "    {\"context\": pinecone.as_retriever(), \"question\": RunnablePassthrough()}\n",
    "    | prompt\n",
    "    | model\n",
    "    | parser\n",
    ")\n",
    "\n",
    "chain.invoke(\"What is the best way for a company to get started with competitive intelligence?\")"
   ]
  },
  {
   "cell_type": "code",
   "execution_count": null,
   "metadata": {},
   "outputs": [],
   "source": [
    "chain.invoke(\"What is the best way for a company to get started with competitive intelligence?\")"
   ]
  }
 ],
 "metadata": {
  "kernelspec": {
   "display_name": "Python 3 (ipykernel)",
   "language": "python",
   "name": "python3"
  },
  "language_info": {
   "codemirror_mode": {
    "name": "ipython",
    "version": 3
   },
   "file_extension": ".py",
   "mimetype": "text/x-python",
   "name": "python",
   "nbconvert_exporter": "python",
   "pygments_lexer": "ipython3",
   "version": "3.10.13"
  }
 },
 "nbformat": 4,
 "nbformat_minor": 4
}
